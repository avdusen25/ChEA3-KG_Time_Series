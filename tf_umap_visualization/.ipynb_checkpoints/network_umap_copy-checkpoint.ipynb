{
 "cells": [
  {
   "cell_type": "code",
   "execution_count": 143,
   "metadata": {},
   "outputs": [
    {
     "name": "stdout",
     "output_type": "stream",
     "text": [
      "/Users/andrewjenkinsvandusen/Downloads/mount_sinai_internship/umap_env/bin/python\n"
     ]
    }
   ],
   "source": [
    "import sys\n",
    "print(sys.executable)"
   ]
  },
  {
   "cell_type": "code",
   "execution_count": 149,
   "metadata": {},
   "outputs": [
    {
     "data": {
      "text/html": [
       "    <style>\n",
       "        .bk-notebook-logo {\n",
       "            display: block;\n",
       "            width: 20px;\n",
       "            height: 20px;\n",
       "            background-image: url(data:image/png;base64,iVBORw0KGgoAAAANSUhEUgAAABQAAAAUCAYAAACNiR0NAAAABHNCSVQICAgIfAhkiAAAAAlwSFlzAAALEgAACxIB0t1+/AAAABx0RVh0U29mdHdhcmUAQWRvYmUgRmlyZXdvcmtzIENTNui8sowAAAOkSURBVDiNjZRtaJVlGMd/1/08zzln5zjP1LWcU9N0NkN8m2CYjpgQYQXqSs0I84OLIC0hkEKoPtiH3gmKoiJDU7QpLgoLjLIQCpEsNJ1vqUOdO7ppbuec5+V+rj4ctwzd8IIbbi6u+8f1539dt3A78eXC7QizUF7gyV1fD1Yqg4JWz84yffhm0qkFqBogB9rM8tZdtwVsPUhWhGcFJngGeWrPzHm5oaMmkfEg1usvLFyc8jLRqDOMru7AyC8saQr7GG7f5fvDeH7Ej8CM66nIF+8yngt6HWaKh7k49Soy9nXurCi1o3qUbS3zWfrYeQDTB/Qj6kX6Ybhw4B+bOYoLKCC9H3Nu/leUTZ1JdRWkkn2ldcCamzrcf47KKXdAJllSlxAOkRgyHsGC/zRday5Qld9DyoM4/q/rUoy/CXh3jzOu3bHUVZeU+DEn8FInkPBFlu3+nW3Nw0mk6vCDiWg8CeJaxEwuHS3+z5RgY+YBR6V1Z1nxSOfoaPa4LASWxxdNp+VWTk7+4vzaou8v8PN+xo+KY2xsw6une2frhw05CTYOmQvsEhjhWjn0bmXPjpE1+kplmmkP3suftwTubK9Vq22qKmrBhpY4jvd5afdRA3wGjFAgcnTK2s4hY0/GPNIb0nErGMCRxWOOX64Z8RAC4oCXdklmEvcL8o0BfkNK4lUg9HTl+oPlQxdNo3Mg4Nv175e/1LDGzZen30MEjRUtmXSfiTVu1kK8W4txyV6BMKlbgk3lMwYCiusNy9fVfvvwMxv8Ynl6vxoByANLTWplvuj/nF9m2+PDtt1eiHPBr1oIfhCChQMBw6Aw0UulqTKZdfVvfG7VcfIqLG9bcldL/+pdWTLxLUy8Qq38heUIjh4XlzZxzQm19lLFlr8vdQ97rjZVOLf8nclzckbcD4wxXMidpX30sFd37Fv/GtwwhzhxGVAprjbg0gCAEeIgwCZyTV2Z1REEW8O4py0wsjeloKoMr6iCY6dP92H6Vw/oTyICIthibxjm/DfN9lVz8IqtqKYLUXfoKVMVQVVJOElGjrnnUt9T9wbgp8AyYKaGlqingHZU/uG2NTZSVqwHQTWkx9hxjkpWDaCg6Ckj5qebgBVbT3V3NNXMSiWSDdGV3hrtzla7J+duwPOToIg42ChPQOQjspnSlp1V+Gjdged7+8UN5CRAV7a5EdFNwCjEaBR27b3W890TE7g24NAP/mMDXRWrGoFPQI9ls/MWO2dWFAar/xcOIImbbpA3zgAAAABJRU5ErkJggg==);\n",
       "        }\n",
       "    </style>\n",
       "    <div>\n",
       "        <a href=\"https://bokeh.org\" target=\"_blank\" class=\"bk-notebook-logo\"></a>\n",
       "        <span id=\"af525ba3-99e3-4e12-8c56-40cb5890d082\">Loading BokehJS ...</span>\n",
       "    </div>\n"
      ]
     },
     "metadata": {},
     "output_type": "display_data"
    },
    {
     "data": {
      "application/javascript": "'use strict';\n(function(root) {\n  function now() {\n    return new Date();\n  }\n\n  const force = true;\n\n  if (typeof root._bokeh_onload_callbacks === \"undefined\" || force === true) {\n    root._bokeh_onload_callbacks = [];\n    root._bokeh_is_loading = undefined;\n  }\n\nconst JS_MIME_TYPE = 'application/javascript';\n  const HTML_MIME_TYPE = 'text/html';\n  const EXEC_MIME_TYPE = 'application/vnd.bokehjs_exec.v0+json';\n  const CLASS_NAME = 'output_bokeh rendered_html';\n\n  /**\n   * Render data to the DOM node\n   */\n  function render(props, node) {\n    const script = document.createElement(\"script\");\n    node.appendChild(script);\n  }\n\n  /**\n   * Handle when an output is cleared or removed\n   */\n  function handleClearOutput(event, handle) {\n    function drop(id) {\n      const view = Bokeh.index.get_by_id(id)\n      if (view != null) {\n        view.model.document.clear()\n        Bokeh.index.delete(view)\n      }\n    }\n\n    const cell = handle.cell;\n\n    const id = cell.output_area._bokeh_element_id;\n    const server_id = cell.output_area._bokeh_server_id;\n\n    // Clean up Bokeh references\n    if (id != null) {\n      drop(id)\n    }\n\n    if (server_id !== undefined) {\n      // Clean up Bokeh references\n      const cmd_clean = \"from bokeh.io.state import curstate; print(curstate().uuid_to_server['\" + server_id + \"'].get_sessions()[0].document.roots[0]._id)\";\n      cell.notebook.kernel.execute(cmd_clean, {\n        iopub: {\n          output: function(msg) {\n            const id = msg.content.text.trim()\n            drop(id)\n          }\n        }\n      });\n      // Destroy server and session\n      const cmd_destroy = \"import bokeh.io.notebook as ion; ion.destroy_server('\" + server_id + \"')\";\n      cell.notebook.kernel.execute(cmd_destroy);\n    }\n  }\n\n  /**\n   * Handle when a new output is added\n   */\n  function handleAddOutput(event, handle) {\n    const output_area = handle.output_area;\n    const output = handle.output;\n\n    // limit handleAddOutput to display_data with EXEC_MIME_TYPE content only\n    if ((output.output_type != \"display_data\") || (!Object.prototype.hasOwnProperty.call(output.data, EXEC_MIME_TYPE))) {\n      return\n    }\n\n    const toinsert = output_area.element.find(\".\" + CLASS_NAME.split(' ')[0]);\n\n    if (output.metadata[EXEC_MIME_TYPE][\"id\"] !== undefined) {\n      toinsert[toinsert.length - 1].firstChild.textContent = output.data[JS_MIME_TYPE];\n      // store reference to embed id on output_area\n      output_area._bokeh_element_id = output.metadata[EXEC_MIME_TYPE][\"id\"];\n    }\n    if (output.metadata[EXEC_MIME_TYPE][\"server_id\"] !== undefined) {\n      const bk_div = document.createElement(\"div\");\n      bk_div.innerHTML = output.data[HTML_MIME_TYPE];\n      const script_attrs = bk_div.children[0].attributes;\n      for (let i = 0; i < script_attrs.length; i++) {\n        toinsert[toinsert.length - 1].firstChild.setAttribute(script_attrs[i].name, script_attrs[i].value);\n        toinsert[toinsert.length - 1].firstChild.textContent = bk_div.children[0].textContent\n      }\n      // store reference to server id on output_area\n      output_area._bokeh_server_id = output.metadata[EXEC_MIME_TYPE][\"server_id\"];\n    }\n  }\n\n  function register_renderer(events, OutputArea) {\n\n    function append_mime(data, metadata, element) {\n      // create a DOM node to render to\n      const toinsert = this.create_output_subarea(\n        metadata,\n        CLASS_NAME,\n        EXEC_MIME_TYPE\n      );\n      this.keyboard_manager.register_events(toinsert);\n      // Render to node\n      const props = {data: data, metadata: metadata[EXEC_MIME_TYPE]};\n      render(props, toinsert[toinsert.length - 1]);\n      element.append(toinsert);\n      return toinsert\n    }\n\n    /* Handle when an output is cleared or removed */\n    events.on('clear_output.CodeCell', handleClearOutput);\n    events.on('delete.Cell', handleClearOutput);\n\n    /* Handle when a new output is added */\n    events.on('output_added.OutputArea', handleAddOutput);\n\n    /**\n     * Register the mime type and append_mime function with output_area\n     */\n    OutputArea.prototype.register_mime_type(EXEC_MIME_TYPE, append_mime, {\n      /* Is output safe? */\n      safe: true,\n      /* Index of renderer in `output_area.display_order` */\n      index: 0\n    });\n  }\n\n  // register the mime type if in Jupyter Notebook environment and previously unregistered\n  if (root.Jupyter !== undefined) {\n    const events = require('base/js/events');\n    const OutputArea = require('notebook/js/outputarea').OutputArea;\n\n    if (OutputArea.prototype.mime_types().indexOf(EXEC_MIME_TYPE) == -1) {\n      register_renderer(events, OutputArea);\n    }\n  }\n  if (typeof (root._bokeh_timeout) === \"undefined\" || force === true) {\n    root._bokeh_timeout = Date.now() + 5000;\n    root._bokeh_failed_load = false;\n  }\n\n  const NB_LOAD_WARNING = {'data': {'text/html':\n     \"<div style='background-color: #fdd'>\\n\"+\n     \"<p>\\n\"+\n     \"BokehJS does not appear to have successfully loaded. If loading BokehJS from CDN, this \\n\"+\n     \"may be due to a slow or bad network connection. Possible fixes:\\n\"+\n     \"</p>\\n\"+\n     \"<ul>\\n\"+\n     \"<li>re-rerun `output_notebook()` to attempt to load from CDN again, or</li>\\n\"+\n     \"<li>use INLINE resources instead, as so:</li>\\n\"+\n     \"</ul>\\n\"+\n     \"<code>\\n\"+\n     \"from bokeh.resources import INLINE\\n\"+\n     \"output_notebook(resources=INLINE)\\n\"+\n     \"</code>\\n\"+\n     \"</div>\"}};\n\n  function display_loaded(error = null) {\n    const el = document.getElementById(\"af525ba3-99e3-4e12-8c56-40cb5890d082\");\n    if (el != null) {\n      const html = (() => {\n        if (typeof root.Bokeh === \"undefined\") {\n          if (error == null) {\n            return \"BokehJS is loading ...\";\n          } else {\n            return \"BokehJS failed to load.\";\n          }\n        } else {\n          const prefix = `BokehJS ${root.Bokeh.version}`;\n          if (error == null) {\n            return `${prefix} successfully loaded.`;\n          } else {\n            return `${prefix} <b>encountered errors</b> while loading and may not function as expected.`;\n          }\n        }\n      })();\n      el.innerHTML = html;\n\n      if (error != null) {\n        const wrapper = document.createElement(\"div\");\n        wrapper.style.overflow = \"auto\";\n        wrapper.style.height = \"5em\";\n        wrapper.style.resize = \"vertical\";\n        const content = document.createElement(\"div\");\n        content.style.fontFamily = \"monospace\";\n        content.style.whiteSpace = \"pre-wrap\";\n        content.style.backgroundColor = \"rgb(255, 221, 221)\";\n        content.textContent = error.stack ?? error.toString();\n        wrapper.append(content);\n        el.append(wrapper);\n      }\n    } else if (Date.now() < root._bokeh_timeout) {\n      setTimeout(() => display_loaded(error), 100);\n    }\n  }\n\n  function run_callbacks() {\n    try {\n      root._bokeh_onload_callbacks.forEach(function(callback) {\n        if (callback != null)\n          callback();\n      });\n    } finally {\n      delete root._bokeh_onload_callbacks\n    }\n    console.debug(\"Bokeh: all callbacks have finished\");\n  }\n\n  function load_libs(css_urls, js_urls, callback) {\n    if (css_urls == null) css_urls = [];\n    if (js_urls == null) js_urls = [];\n\n    root._bokeh_onload_callbacks.push(callback);\n    if (root._bokeh_is_loading > 0) {\n      console.debug(\"Bokeh: BokehJS is being loaded, scheduling callback at\", now());\n      return null;\n    }\n    if (js_urls == null || js_urls.length === 0) {\n      run_callbacks();\n      return null;\n    }\n    console.debug(\"Bokeh: BokehJS not loaded, scheduling load and callback at\", now());\n    root._bokeh_is_loading = css_urls.length + js_urls.length;\n\n    function on_load() {\n      root._bokeh_is_loading--;\n      if (root._bokeh_is_loading === 0) {\n        console.debug(\"Bokeh: all BokehJS libraries/stylesheets loaded\");\n        run_callbacks()\n      }\n    }\n\n    function on_error(url) {\n      console.error(\"failed to load \" + url);\n    }\n\n    for (let i = 0; i < css_urls.length; i++) {\n      const url = css_urls[i];\n      const element = document.createElement(\"link\");\n      element.onload = on_load;\n      element.onerror = on_error.bind(null, url);\n      element.rel = \"stylesheet\";\n      element.type = \"text/css\";\n      element.href = url;\n      console.debug(\"Bokeh: injecting link tag for BokehJS stylesheet: \", url);\n      document.body.appendChild(element);\n    }\n\n    for (let i = 0; i < js_urls.length; i++) {\n      const url = js_urls[i];\n      const element = document.createElement('script');\n      element.onload = on_load;\n      element.onerror = on_error.bind(null, url);\n      element.async = false;\n      element.src = url;\n      console.debug(\"Bokeh: injecting script tag for BokehJS library: \", url);\n      document.head.appendChild(element);\n    }\n  };\n\n  function inject_raw_css(css) {\n    const element = document.createElement(\"style\");\n    element.appendChild(document.createTextNode(css));\n    document.body.appendChild(element);\n  }\n\n  const js_urls = [\"https://cdn.bokeh.org/bokeh/release/bokeh-3.7.3.min.js\", \"https://cdn.bokeh.org/bokeh/release/bokeh-gl-3.7.3.min.js\", \"https://cdn.bokeh.org/bokeh/release/bokeh-widgets-3.7.3.min.js\", \"https://cdn.bokeh.org/bokeh/release/bokeh-tables-3.7.3.min.js\", \"https://cdn.bokeh.org/bokeh/release/bokeh-mathjax-3.7.3.min.js\"];\n  const css_urls = [];\n\n  const inline_js = [    function(Bokeh) {\n      Bokeh.set_log_level(\"info\");\n    },\nfunction(Bokeh) {\n    }\n  ];\n\n  function run_inline_js() {\n    if (root.Bokeh !== undefined || force === true) {\n      try {\n            for (let i = 0; i < inline_js.length; i++) {\n      inline_js[i].call(root, root.Bokeh);\n    }\n\n      } catch (error) {display_loaded(error);throw error;\n      }if (force === true) {\n        display_loaded();\n      }} else if (Date.now() < root._bokeh_timeout) {\n      setTimeout(run_inline_js, 100);\n    } else if (!root._bokeh_failed_load) {\n      console.log(\"Bokeh: BokehJS failed to load within specified timeout.\");\n      root._bokeh_failed_load = true;\n    } else if (force !== true) {\n      const cell = $(document.getElementById(\"af525ba3-99e3-4e12-8c56-40cb5890d082\")).parents('.cell').data().cell;\n      cell.output_area.append_execute_result(NB_LOAD_WARNING)\n    }\n  }\n\n  if (root._bokeh_is_loading === 0) {\n    console.debug(\"Bokeh: BokehJS loaded, going straight to plotting\");\n    run_inline_js();\n  } else {\n    load_libs(css_urls, js_urls, function() {\n      console.debug(\"Bokeh: BokehJS plotting callback run at\", now());\n      run_inline_js();\n    });\n  }\n}(window));",
      "application/vnd.bokehjs_load.v0+json": ""
     },
     "metadata": {},
     "output_type": "display_data"
    }
   ],
   "source": [
    "import pandas as pd\n",
    "from collections import defaultdict\n",
    "import numpy as np\n",
    "import tqdm\n",
    "import chromedriver_binary\n",
    "import random\n",
    "from sklearn.feature_extraction.text import TfidfVectorizer\n",
    "import scanpy as sc\n",
    "import anndata\n",
    "from collections import OrderedDict\n",
    "from bokeh.io import output_notebook, export_png, export_svg\n",
    "from bokeh.plotting import figure, show\n",
    "from bokeh.models import HoverTool, ColumnDataSource\n",
    "from bokeh.palettes import Category20\n",
    "import glasbey\n",
    "output_notebook()\n",
    "\n",
    "from IPython.display import display, HTML, Markdown\n",
    "\n",
    "import pandas as pd\n",
    "import matplotlib.colors as mcolors"
   ]
  },
  {
   "cell_type": "code",
   "execution_count": 145,
   "metadata": {},
   "outputs": [],
   "source": [
    "def load_network(networkdir):\n",
    "    up = pd.read_csv(f\"{networkdir}/Transcription Factor.upregulates.Transcription Factor.edges.csv\", usecols=[\"source_label\",\"target_label\"])\n",
    "    down = pd.read_csv(f\"{networkdir}/Transcription Factor.downregulates.Transcription Factor.edges.csv\",usecols=[\"source_label\",\"target_label\"])\n",
    "    nodes = pd.read_csv(f\"{networkdir}/Transcription Factor.nodes.csv\",usecols=[\"label\"])\n",
    "    return up,down,nodes\n",
    "\n",
    "def find_neighbors(edge_list):\n",
    "    neighbors = defaultdict(list)\n",
    "    for (source, target) in edge_list:\n",
    "        neighbors[source].append(target)\n",
    "    return neighbors\n",
    "\n",
    "up,down,nodes = load_network(\"/Users/andrewjenkinsvandusen/Downloads/mount_sinai_internship/tf_umap_visualization\")"
   ]
  },
  {
   "cell_type": "markdown",
   "metadata": {},
   "source": [
    "# Network UMAP"
   ]
  },
  {
   "cell_type": "markdown",
   "metadata": {},
   "source": [
    "Step 1. Convert the network to a GMT."
   ]
  },
  {
   "cell_type": "code",
   "execution_count": 146,
   "metadata": {},
   "outputs": [],
   "source": [
    "network_dir = \"/Users/andrewjenkinsvandusen/Downloads/mount_sinai_internship/tf_umap_visualization\"\n",
    "up = pd.read_csv(f\"{network_dir}/Transcription Factor.upregulates.Transcription Factor.edges.csv\", usecols=[\"source_label\",\"target_label\"])\n",
    "down = pd.read_csv(f\"{network_dir}/Transcription Factor.downregulates.Transcription Factor.edges.csv\",usecols=[\"source_label\",\"target_label\"])\n",
    "edges = pd.concat([up, down], ignore_index=True)\n",
    "\n",
    "edgelist = list(zip(edges[\"source_label\"], edges[\"target_label\"])) # generates list of tuples\n",
    "gmt = {}\n",
    "for (source, target) in edgelist:\n",
    "    if source in gmt.keys():\n",
    "        gmt[source].append(target)\n",
    "    else:\n",
    "        gmt[source] = [target]\n",
    "\n",
    "with open(\"./network_gmt.gmt\", \"w\") as file:\n",
    "    for s,t in gmt.items():\n",
    "        file.write(str(s) + \"\\t\\t\" + \"\\t\".join(t) + \"\\n\")"
   ]
  },
  {
   "cell_type": "markdown",
   "metadata": {},
   "source": [
    "Step 2. Build the UMAP using code from the Enrichr processing libraries"
   ]
  },
  {
   "cell_type": "code",
   "execution_count": 147,
   "metadata": {},
   "outputs": [],
   "source": [
    "libname = 'network_gmt'\n",
    "libdir = '/Users/andrewjenkinsvandusen/Downloads/mount_sinai_internship/tf_umap_visualization' # directory where library is\n",
    "\n",
    "def get_scatter_library(libname, local, augmented):\n",
    "    '''\n",
    "    Processes the GMT file for the input Enrichr library {lib} and returns a\n",
    "    dictionary where the keys correspond to gene set names, and the value for\n",
    "    each key is a space-delimited string containing all genes belonging to\n",
    "    the gene set:\n",
    "    {\n",
    "        \"gene set name\": \"gene_1 gene_2 gene_3 ... gene_n\",\n",
    "        ...\n",
    "    }\n",
    "    In addition, this function can augment each gene set library using ARCHS4\n",
    "    gene-gene co-expression data. For each gene set, the most co-expressed genes\n",
    "    (determined by summing the coexpression coefficients across all genes)\n",
    "    are added to the gene set before visualization.\n",
    "    '''\n",
    "    ### open local file or from Enrichr\n",
    "    if local:\n",
    "        print(f\"\\tOpening library locally from '{libdir}'...\")\n",
    "        with open(f\"{libdir}/{libname}.gmt\", 'r') as f:\n",
    "            lines = f.readlines()\n",
    "\n",
    "    ### variables to store gene set data\n",
    "    lib_dict = OrderedDict()\n",
    "\n",
    "    if augmented:\n",
    "        print(\"\\tProcessing gene sets and augmenting with ARCHS4...\")\n",
    "    else:\n",
    "        print(\"\\tProcessing gene sets without augmentation...\")\n",
    "\n",
    "    for line in lines:\n",
    "        tokens = line.split(\"\\t\\t\")\n",
    "        term = tokens[0]\n",
    "        genes = [x.split(',')[0].strip() for x in tokens[1].split('\\t')]\n",
    "        lib_dict[term] = ' '.join(genes)\n",
    "\n",
    "    return lib_dict\n",
    "\n",
    "def process_scatterplot(libdict, nneighbors=30, mindist=0.1, spread=1.0, maxdf=1.0, mindf=1):\n",
    "    print(\"\\tTF-IDF vectorizing gene set data...\")\n",
    "    vec = TfidfVectorizer(max_df=maxdf, min_df=mindf)\n",
    "    X = vec.fit_transform(libdict.values())\n",
    "    print(X.shape)\n",
    "    adata = anndata.AnnData(X)\n",
    "    adata.obs.index = libdict.keys()\n",
    "\n",
    "    print(\"\\tPerforming Leiden clustering...\")\n",
    "    ### the nneighbors and min_dist parameters can be altered\n",
    "    sc.pp.neighbors(adata, n_neighbors=nneighbors)\n",
    "    sc.tl.leiden(adata, resolution=1.0)\n",
    "    sc.tl.umap(adata, min_dist=mindist, spread=spread, random_state=42)\n",
    "\n",
    "    new_order = adata.obs.sort_values(by='leiden').index.tolist()\n",
    "    adata = adata[new_order, :]\n",
    "    adata.obs['leiden'] = 'Cluster ' + adata.obs['leiden'].astype('object')\n",
    "\n",
    "    df = pd.DataFrame(adata.obsm['X_umap'])\n",
    "    df.columns = ['x', 'y']\n",
    "\n",
    "    df['cluster'] = adata.obs['leiden'].values\n",
    "    df['term'] = adata.obs.index\n",
    "    df['genes'] = [libdict[l] for l in df['term']]\n",
    "\n",
    "    return df\n",
    "\n",
    "# def get_scatter_colors(df):\n",
    "#     clusters = pd.unique(df['cluster']).tolist()\n",
    "#     colors = glasbey.create_palette(palette_size=len(clusters), lightness_bounds=(0,100), chroma_bounds=(50,100), as_hex=True)\n",
    "#     color_mapper = {clusters[i]: colors[i % 20] for i in range(len(clusters))}\n",
    "#     return color_mapper\n",
    "\n",
    "# def get_scatter_colors(df):\n",
    "#     clusters = pd.unique(df['cluster']).tolist()\n",
    "#     gray = '#808080'  # standard medium gray\n",
    "#     color_mapper = {cluster: gray for cluster in clusters}\n",
    "#     return color_mapper\n",
    "\n",
    "def get_scatter_colors(df):\n",
    "    clusters = pd.unique(df['cluster']).tolist()\n",
    "    n_clusters = len(clusters)\n",
    "    gray_shades = [f'#{int(v):02x}{int(v):02x}{int(v):02x}' for v in np.linspace(80, 200, n_clusters)]\n",
    "    color_mapper = {clusters[i]: gray_shades[i] for i in range(n_clusters)}\n",
    "    return color_mapper\n",
    "\n",
    "def get_scatterplot(scatterdf, tf_time_dict=None, comparisons=None):\n",
    "    df = scatterdf.copy()\n",
    "    color_mapper = get_scatter_colors(df)\n",
    "    df['color'] = df['cluster'].apply(lambda x: color_mapper[x])\n",
    "\n",
    "    # new code\n",
    "    df['size'] = 6\n",
    "    df['time_point'] = \"Not enriched\"\n",
    "\n",
    "    def blend_colors(color_hex, factor):\n",
    "        rgb = mcolors.to_rgb(color_hex)\n",
    "        adjusted = tuple(min(1, c * factor) for c in rgb)\n",
    "        return mcolors.to_hex(adjusted)\n",
    "\n",
    "    if tf_time_dict is not None:\n",
    "        num_comparisons = len(comparisons)\n",
    "        for i in range(num_comparisons):\n",
    "            up_tfs = tf_time_dict[i][0]\n",
    "            down_tfs = tf_time_dict[i][1]\n",
    "            for idx, term in df['term'].items():\n",
    "                if term in up_tfs:\n",
    "                    df.at[idx, 'color'] = blend_colors('#1f77b4', 1 + 0.1 * i)\n",
    "                    df.at[idx, 'size'] = 12\n",
    "                    df.at[idx, 'time_point'] = comparisons[i]\n",
    "                if term in down_tfs:\n",
    "                    df.at[idx, 'color'] = blend_colors('#b41f29', 1 + 0.1 * i)\n",
    "                    df.at[idx, 'size'] = 12\n",
    "                    df.at[idx, 'time_point'] = comparisons[i]\n",
    "\n",
    "    df['cluster_number'] = df['cluster'].apply(lambda x: int(x.split(\" \")[-1]))\n",
    "    print(df['cluster_number'])\n",
    "    df.sort_values(by=['cluster_number'], inplace=True)\n",
    "    df.drop(columns = ['cluster_number'], inplace=True)\n",
    "    tooltips = [\n",
    "        (\"Gene Set\", \"@gene_set\"),\n",
    "        (\"Cluster\", \"@label\"),\n",
    "        (\"Time point\", \"@time_point\")\n",
    "    ]\n",
    "\n",
    "    hover_emb = HoverTool(tooltips=tooltips)\n",
    "    tools_emb = [hover_emb, 'pan', 'wheel_zoom', 'reset', 'save']\n",
    "\n",
    "    plot_emb =  figure(\n",
    "        width=500*2,\n",
    "        height=400*2,\n",
    "        tools=tools_emb,\n",
    "        output_backend='svg'\n",
    "    )\n",
    "\n",
    "    source = ColumnDataSource(\n",
    "        data=dict(\n",
    "            x = df['x'],\n",
    "            y = df['y'],\n",
    "            gene_set = df['term'],\n",
    "            colors = df['color'],\n",
    "            label = df['cluster'],\n",
    "            size = df['size'],\n",
    "            time_point = df['time_point']\n",
    "        )\n",
    "    )\n",
    "\n",
    "    # hide axis labels and grid lines\n",
    "    plot_emb.xaxis.major_tick_line_color = None\n",
    "    plot_emb.xaxis.minor_tick_line_color = None\n",
    "    plot_emb.yaxis.major_tick_line_color = None\n",
    "    plot_emb.yaxis.minor_tick_line_color = None\n",
    "    plot_emb.grid.grid_line_color = None\n",
    "    plot_emb.xaxis.major_label_text_font_size = '0pt'\n",
    "    plot_emb.yaxis.major_label_text_font_size = '0pt'\n",
    "\n",
    "    plot_emb.xaxis.axis_label = \"UMAP-1\"\n",
    "    plot_emb.yaxis.axis_label = \"UMAP-2\"\n",
    "    plot_emb.xaxis.axis_label_text_font_size = '40pt'\n",
    "    plot_emb.yaxis.axis_label_text_font_size = '40pt'\n",
    "    plot_emb.xaxis.axis_label_text_font_style = \"normal\"\n",
    "    plot_emb.yaxis.axis_label_text_font_style = \"normal\"\n",
    "\n",
    "    s = plot_emb.scatter(\n",
    "        'x',\n",
    "        'y',\n",
    "        size = 'size',\n",
    "        source = source,\n",
    "        marker='circle',\n",
    "        fill_color = 'colors',\n",
    "        color='colors',\n",
    "        legend_group = 'label'\n",
    "    )\n",
    "    plot_emb.legend.label_text_font_size = '18pt'\n",
    "    plot_emb.legend.glyph_height = 20\n",
    "    plot_emb.legend.glyph_width = 20\n",
    "\n",
    "    print(\"legend\", plot_emb.legend[0])\n",
    "    plot_emb.add_layout(plot_emb.legend[0], 'right')\n",
    "\n",
    "    return plot_emb, source"
   ]
  },
  {
   "cell_type": "code",
   "execution_count": 148,
   "metadata": {},
   "outputs": [
    {
     "name": "stdout",
     "output_type": "stream",
     "text": [
      "\tOpening library locally from '/Users/andrewjenkinsvandusen/Downloads/mount_sinai_internship/tf_umap_visualization'...\n",
      "\tProcessing gene sets without augmentation...\n",
      "Now processing network_gmt\n",
      "\tTF-IDF vectorizing gene set data...\n",
      "(700, 1550)\n",
      "\tPerforming Leiden clustering...\n"
     ]
    },
    {
     "name": "stderr",
     "output_type": "stream",
     "text": [
      "/Users/andrewjenkinsvandusen/Downloads/mount_sinai_internship/umap_env/lib/python3.11/site-packages/scanpy/neighbors/__init__.py:586: UserWarning: You’re trying to run this on 1550 dimensions of `.X`, if you really want this, set `use_rep='X'`.\n",
      "         Falling back to preprocessing with `sc.pp.pca` and default params.\n",
      "  X = _choose_representation(self._adata, use_rep=use_rep, n_pcs=n_pcs)\n"
     ]
    },
    {
     "name": "stdout",
     "output_type": "stream",
     "text": [
      "\tDone!\n",
      "0       0\n",
      "1       0\n",
      "2       0\n",
      "3       0\n",
      "4       0\n",
      "       ..\n",
      "695    15\n",
      "696    15\n",
      "697    15\n",
      "698    15\n",
      "699    15\n",
      "Name: cluster_number, Length: 700, dtype: int64\n",
      "legend Legend(id='p6896', ...)\n",
      "figure(id='p6859', ...)\n"
     ]
    },
    {
     "name": "stderr",
     "output_type": "stream",
     "text": [
      "/var/folders/hs/y48w23_j2gbcvl8vwwd1p3dc0000gn/T/ipykernel_5109/2814934055.py:57: ImplicitModificationWarning: Trying to modify attribute `.obs` of view, initializing view as actual.\n",
      "  adata.obs['leiden'] = 'Cluster ' + adata.obs['leiden'].astype('object')\n"
     ]
    },
    {
     "data": {
      "text/html": [
       "<div style='font-size:1.5rem;'>Scatter plot visualization for network_gmt.</div>"
      ],
      "text/plain": [
       "<IPython.core.display.HTML object>"
      ]
     },
     "metadata": {},
     "output_type": "display_data"
    },
    {
     "data": {
      "text/html": [
       "\n",
       "  <div id=\"b0a17036-4758-4374-85f1-c33868e36c1e\" data-root-id=\"p6859\" style=\"display: contents;\"></div>\n"
      ]
     },
     "metadata": {},
     "output_type": "display_data"
    },
    {
     "data": {
      "application/javascript": "(function(root) {\n  function embed_document(root) {\n  const docs_json = {\"01cb83d3-62fc-432a-94b5-122148d24198\":{\"version\":\"3.7.3\",\"title\":\"Bokeh Application\",\"roots\":[{\"type\":\"object\",\"name\":\"Figure\",\"id\":\"p6859\",\"attributes\":{\"width\":1000,\"height\":800,\"x_range\":{\"type\":\"object\",\"name\":\"DataRange1d\",\"id\":\"p6860\"},\"y_range\":{\"type\":\"object\",\"name\":\"DataRange1d\",\"id\":\"p6861\"},\"x_scale\":{\"type\":\"object\",\"name\":\"LinearScale\",\"id\":\"p6868\"},\"y_scale\":{\"type\":\"object\",\"name\":\"LinearScale\",\"id\":\"p6869\"},\"title\":{\"type\":\"object\",\"name\":\"Title\",\"id\":\"p6866\"},\"renderers\":[{\"type\":\"object\",\"name\":\"GlyphRenderer\",\"id\":\"p6893\",\"attributes\":{\"data_source\":{\"type\":\"object\",\"name\":\"ColumnDataSource\",\"id\":\"p6884\",\"attributes\":{\"selected\":{\"type\":\"object\",\"name\":\"Selection\",\"id\":\"p6885\",\"attributes\":{\"indices\":[],\"line_indices\":[]}},\"selection_policy\":{\"type\":\"object\",\"name\":\"UnionRenderers\",\"id\":\"p6886\"},\"data\":{\"type\":\"map\",\"entries\":[[\"x\",{\"type\":\"ndarray\",\"array\":{\"type\":\"bytes\",\"data\":\"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\"},\"shape\":[700],\"dtype\":\"float32\",\"order\":\"little\"}],[\"y\",{\"type\":\"ndarray\",\"array\":{\"type\":\"bytes\",\"data\":\"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\"},\"shape\":[700],\"dtype\":\"float32\",\"order\":\"little\"}],[\"gene_set\",{\"type\":\"ndarray\",\"array\":[\"VAX1\",\"ZNF229\",\"ZNF540\",\"ZNF418\",\"LEF1\",\"NRF1\",\"ZNF286A\",\"ZNF783\",\"TIGD5\",\"L3MBTL1\",\"STAT1\",\"MSANTD4\",\"ETV5\",\"GATAD2B\",\"POU2AF1\",\"CSRNP2\",\"HIVEP2\",\"LTF\",\"ZNF605\",\"BRF2\",\"ZBED5\",\"USF2\",\"ZNF112\",\"HES2\",\"TBR1\",\"ZNF775\",\"FOXJ1\",\"ZNF614\",\"ZNF358\",\"GFI1B\",\"HMGN3\",\"MXD4\",\"E4F1\",\"PBX2\",\"ZNF266\",\"NKX2-2\",\"ZNF75D\",\"ZNF737\",\"GATA1\",\"ZNF24\",\"TBX10\",\"ZNF22\",\"SOX21\",\"PITX2\",\"ZNF211\",\"PIN1\",\"ZNF182\",\"MEF2A\",\"ZNF217\",\"ZNF503\",\"HMG20B\",\"IRX5\",\"REPIN1\",\"TEAD2\",\"ZNF260\",\"ZNF37A\",\"SP2\",\"HMG20A\",\"ELF1\",\"STAT5B\",\"ZNF687\",\"ZBTB39\",\"ZNF207\",\"ADNP2\",\"HOXB2\",\"FOXP3\",\"ZNF254\",\"FOXA2\",\"ZNF664\",\"ZNF420\",\"KLF1\",\"ESRRA\",\"ZNF789\",\"ZNF696\",\"TFCP2\",\"THRA\",\"NR2F1\",\"ZNF74\",\"ZNF92\",\"SOHLH1\",\"ZMAT1\",\"RHOXF2\",\"ZNF428\",\"ZNF883\",\"TIGD4\",\"ZNF253\",\"FEV\",\"ZBTB22\",\"ZSCAN26\",\"TAL1\",\"ALX4\",\"SREBF1\",\"ZNF496\",\"NKX1-2\",\"ZNF841\",\"ETV7\",\"FOXJ2\",\"UBP1\",\"ZNF474\",\"MTERF4\",\"TP63\",\"ZNF449\",\"IKZF2\",\"PGR\",\"THYN1\",\"ZNF32\",\"SOX4\",\"ESR1\",\"ZNF107\",\"E2F2\",\"SKIL\",\"IRF1\",\"ZNF485\",\"TGIF2\",\"IRF2\",\"WT1\",\"EMX1\",\"NKX6-3\",\"ZNF528\",\"MEF2B\",\"SP9\",\"CASZ1\",\"MXD3\",\"ZNF672\",\"PRDM1\",\"CCDC17\",\"ZNF33A\",\"RFX3\",\"GABPA\",\"MYSM1\",\"ARID5A\",\"AEBP2\",\"ZNF785\",\"ZNF654\",\"ZNF398\",\"SP3\",\"ZNF736\",\"ZNF805\",\"BAZ2B\",\"ZFP69B\",\"ZNF697\",\"RFX7\",\"ZBED6\",\"TET2\",\"PRDM4\",\"ZNF776\",\"KLF6\",\"ZBTB6\",\"ZNF800\",\"NR4A3\",\"ZNF227\",\"ZNF322\",\"ZBTB11\",\"RLF\",\"NFIL3\",\"ZKSCAN8\",\"DR1\",\"ZBTB2\",\"HIVEP1\",\"ZFX\",\"SON\",\"ZBTB38\",\"CREBZF\",\"FOSB\",\"CSRNP1\",\"KLF10\",\"JUNB\",\"ZNF417\",\"ZNF844\",\"ZNF644\",\"DMTF1\",\"ZNF514\",\"ZBTB24\",\"ZBTB26\",\"ZNF45\",\"ZNF148\",\"ZSCAN30\",\"ZNF518A\",\"ZBTB21\",\"IKZF5\",\"ZNF830\",\"ZNF317\",\"ZNF12\",\"ZNF845\",\"ZNF606\",\"RBAK\",\"BPTF\",\"ZNF81\",\"ZNF236\",\"FOXJ3\",\"CEBPG\",\"ZFP62\",\"ZNF678\",\"CGGBP1\",\"ZNF324\",\"SPEN\",\"MGA\",\"ZNF770\",\"DDIT3\",\"FOXN2\",\"NFAT5\",\"ZNF460\",\"SNAI1\",\"ZNF550\",\"EEA1\",\"ZNF594\",\"ZNF782\",\"ZNF507\",\"ZNF79\",\"ZNF416\",\"ZNF134\",\"ASH1L\",\"KMT2B\",\"ZBTB37\",\"KMT2A\",\"JRK\",\"ZNF780B\",\"AHDC1\",\"ZNF668\",\"MBD6\",\"ZNF777\",\"RBCK1\",\"CENPX\",\"ZNF524\",\"THAP3\",\"FBXL19\",\"PREB\",\"CC2D1A\",\"KDM2A\",\"ZBTB42\",\"SNAPC5\",\"ZNF142\",\"ZBTB7A\",\"ZNF219\",\"ZNF511\",\"MNT\",\"POU5F1B\",\"ZNF581\",\"GATAD2A\",\"AKAP8L\",\"CHCHD3\",\"SNAPC2\",\"SAFB\",\"FOXP4\",\"TCF20\",\"ZNF276\",\"GLMP\",\"ZNF740\",\"GTF3A\",\"REXO4\",\"ZBTB40\",\"DRAP1\",\"KLF16\",\"ZNF598\",\"THAP7\",\"CXXC1\",\"FIZ1\",\"ZNF787\",\"SRCAP\",\"GLI4\",\"BAZ2A\",\"ZNF512B\",\"ZNF580\",\"THAP4\",\"MBD3\",\"ZNF444\",\"ZNF837\",\"CIC\",\"ZNF609\",\"ZNF282\",\"PRR12\",\"GMEB2\",\"MLX\",\"MYPOP\",\"NR2F6\",\"ZBTB45\",\"ZNF316\",\"RXRB\",\"ZNF408\",\"ZNF335\",\"ZBTB17\",\"INSM2\",\"ZNF853\",\"POU6F1\",\"ARNT2\",\"SOX2\",\"ZNF536\",\"CAMTA1\",\"TEF\",\"BHLHE41\",\"DPF1\",\"NPAS3\",\"ZSCAN18\",\"MEIS3\",\"ZMAT4\",\"CXXC4\",\"SOX12\",\"INSM1\",\"SALL2\",\"CAMTA2\",\"ZNF804A\",\"PCGF2\",\"SOX1\",\"KCNIP3\",\"DACH2\",\"EBF4\",\"NEUROD6\",\"CXXC5\",\"PATZ1\",\"CSRNP3\",\"POU3F2\",\"RORB\",\"SOX8\",\"MYT1\",\"NKX6-2\",\"ZNF488\",\"SGSM2\",\"HEY1\",\"OLIG2\",\"OLIG1\",\"MYT1L\",\"SALL3\",\"FOXG1\",\"MYRF\",\"DBX2\",\"ZNF365\",\"SETBP1\",\"FEZF1\",\"GLI3\",\"NACC2\",\"GLI2\",\"ZBTB18\",\"ZHX3\",\"NR2E1\",\"POU3F4\",\"POU3F3\",\"SOX10\",\"NHLH2\",\"SCRT2\",\"SCRT1\",\"PURG\",\"PEG3\",\"SPIB\",\"NFE4\",\"CREB5\",\"ZNF319\",\"ZNF831\",\"ZNF746\",\"IRF5\",\"CEBPE\",\"IRF4\",\"TBX21\",\"SCML4\",\"ETV3L\",\"NFATC2\",\"HLX\",\"TFEB\",\"TFEC\",\"IKZF3\",\"ELF4\",\"ZNF438\",\"ZNF80\",\"SNAI3\",\"TCF7\",\"STAT4\",\"ZNF467\",\"ZBTB34\",\"SP140L\",\"LYL1\",\"FLI1\",\"IRF9\",\"SP100\",\"STAT2\",\"JDP2\",\"MSC\",\"SPI1\",\"ZNF641\",\"PLSCR1\",\"ZBTB48\",\"BATF\",\"NFKB1\",\"BORCS8-MEF2B\",\"MXD1\",\"RELB\",\"NFKB2\",\"SP140\",\"BATF3\",\"AKNA\",\"IKZF1\",\"TRAFD1\",\"BATF2\",\"IRF7\",\"GFI1\",\"SP110\",\"ZNF267\",\"MTF1\",\"TFE3\",\"IRF8\",\"PHF21A\",\"FOXO1\",\"CREBL2\",\"NR1H2\",\"ATF4\",\"ZNF394\",\"ERF\",\"SRF\",\"EGR2\",\"CEBPB\",\"FOS\",\"FOSL2\",\"RARG\",\"THAP12\",\"KLF9\",\"EGR3\",\"NFE2L2\",\"ATF5\",\"HBP1\",\"XBP1\",\"TGIF1\",\"NR4A1\",\"ARNTL2\",\"HIF1A\",\"ZNF655\",\"GZF1\",\"MAFG\",\"RELA\",\"ETV3\",\"CREB3L1\",\"KLF2\",\"ZNF35\",\"ZNF436\",\"AHRR\",\"ZNF331\",\"TRPS1\",\"ETS2\",\"SOX13\",\"KCMF1\",\"REL\",\"ZNF410\",\"RUNX2\",\"ZNF395\",\"ATF3\",\"NPAS2\",\"FOSL1\",\"JUN\",\"BHLHA15\",\"AHR\",\"MSANTD3\",\"FOXO3\",\"SMAD3\",\"ZBTB7B\",\"NKX2-1\",\"GLIS3\",\"PRRX1\",\"CREB3L2\",\"FOXC2\",\"TSHZ3\",\"BCL6B\",\"TEAD3\",\"MEOX2\",\"FOXF1\",\"ZNF792\",\"TEAD1\",\"ATOH8\",\"HMGA2\",\"OSR1\",\"SOX7\",\"SOX18\",\"ELK3\",\"SOX17\",\"SNAI2\",\"HEYL\",\"TWIST1\",\"ZNF469\",\"TWIST2\",\"OSR2\",\"HIC1\",\"GLIS2\",\"BNC2\",\"GLIS1\",\"TBX18\",\"NFATC4\",\"RFX8\",\"FOXS1\",\"MEOX1\",\"MKX\",\"FOXD1\",\"EPAS1\",\"FOXL1\",\"PRRX2\",\"AEBP1\",\"ZBTB7C\",\"IRF6\",\"MYRFL\",\"MLXIPL\",\"GRHL3\",\"FOXA3\",\"ELF3\",\"TFCP2L1\",\"DLX3\",\"HNF1B\",\"IRX4\",\"SP6\",\"ARID3C\",\"ISX\",\"FOXQ1\",\"TFAP2C\",\"EHF\",\"FOXN1\",\"CREB3L3\",\"SOX15\",\"ZNF750\",\"NR1H4\",\"HNF4A\",\"CDX1\",\"GRHL1\",\"BARX2\",\"SPDEF\",\"BNC1\",\"NR1I3\",\"NR1I2\",\"GRHL2\",\"OVOL1\",\"HNF4G\",\"HNF1A\",\"CDX2\",\"ZNF362\",\"ZNF827\",\"EBF2\",\"IRX1\",\"ZNF445\",\"PBX3\",\"PBX1\",\"MEIS2\",\"ZNF25\",\"NFIA\",\"ZSCAN23\",\"ZNF704\",\"EBF3\",\"ZNF532\",\"SOX11\",\"ZNF423\",\"ZBTB4\",\"ZNF385D\",\"ZNF521\",\"TCF4\",\"ZNF300\",\"KLF12\",\"ZNF608\",\"ZNF251\",\"ST18\",\"ZNF354C\",\"LHX9\",\"ZNF248\",\"ZFHX4\",\"DACH1\",\"ZNF214\",\"RBSN\",\"TSHZ1\",\"ZNF618\",\"E2F8\",\"PA2G4\",\"PRMT3\",\"CENPA\",\"ZBTB9\",\"ZNF695\",\"ZNF324B\",\"E2F1\",\"ZNF749\",\"ZNF878\",\"GLYR1\",\"MTERF3\",\"MYBL2\",\"ZNF146\",\"FOXM1\",\"E2F7\",\"PCGF6\",\"ZNF888\",\"TFDP1\",\"E2F4\",\"GTF2I\",\"CHAMP1\",\"ZNF670\",\"ZNF202\",\"ZBED4\",\"FOXK2\",\"HMGA1\",\"ZNF93\",\"TTF1\",\"ZNF239\",\"ZNF367\",\"DNMT1\",\"ZBTB1\",\"PPARG\",\"ZNF407\",\"KLF3\",\"ZNF385B\",\"FOXN3\",\"HOXB13\",\"ATF7\",\"ELF5\",\"KLF7\",\"RORC\",\"NR1H3\",\"HLF\",\"ZFHX3\",\"FOXA1\",\"MBNL2\",\"VEZF1\",\"NKX3-1\",\"ARID5B\",\"DMRT2\",\"ARNTL\",\"IRX6\",\"PRDM2\",\"TSHZ2\",\"CREB3L4\",\"ZBED3\",\"MITF\",\"NCOA2\",\"MESP1\",\"HOXA2\",\"HOXB8\",\"HOXD4\",\"PHOX2B\",\"HOXB6\",\"HOXA5\",\"HOXD11\",\"HOXB3\",\"HOXD3\",\"HAND1\",\"GATA6\",\"HOXB5\",\"HOXC5\",\"HOXA13\",\"LHX1\",\"NKX6-1\",\"HOXC11\",\"HOXD8\",\"HOXA4\",\"HOXA11\",\"HOXA6\",\"HOXA3\",\"HOXC4\",\"HOXD9\",\"HOXD10\",\"HOXC6\",\"DZIP1\",\"POU5F1\",\"NANOG\",\"HES3\",\"SOX3\",\"BHLHE22\",\"ETV4\",\"ZIC4\",\"ZIC3\",\"LHX5\",\"TCF7L1\",\"ZNF121\",\"ZIC5\",\"BARHL1\",\"HESX1\",\"ZIC2\",\"EN2\",\"FOXH1\",\"NKX2-5\",\"RXRG\",\"MYF5\",\"MYOD1\",\"SIX1\",\"TBX20\",\"ZBTB47\",\"MYF6\",\"MYOG\",\"PITX3\",\"TBX5\",\"TBX15\",\"MAFA\",\"DPF3\",\"HAND2\",\"GATA4\",\"NKX2-6\",\"YBX3\",\"SCX\",\"ANKZF1\",\"FLYWCH1\",\"MZF1\",\"ZNF692\",\"USF1\",\"ZNF76\",\"SAFB2\",\"HSF4\",\"KLF4\",\"STAT3\",\"MYC\",\"SRY\",\"TP53\",\"AR\",\"VDR\",\"ZFY\"],\"shape\":[700],\"dtype\":\"object\",\"order\":\"little\"}],[\"colors\",{\"type\":\"ndarray\",\"array\":[\"#505050\",\"#505050\",\"#505050\",\"#505050\",\"#505050\",\"#505050\",\"#505050\",\"#505050\",\"#505050\",\"#505050\",\"#2ba7fc\",\"#505050\",\"#505050\",\"#505050\",\"#505050\",\"#505050\",\"#505050\",\"#505050\",\"#505050\",\"#505050\",\"#505050\",\"#505050\",\"#505050\",\"#505050\",\"#505050\",\"#505050\",\"#505050\",\"#505050\",\"#505050\",\"#505050\",\"#d82531\",\"#505050\",\"#505050\",\"#505050\",\"#505050\",\"#505050\",\"#505050\",\"#505050\",\"#505050\",\"#505050\",\"#505050\",\"#505050\",\"#505050\",\"#505050\",\"#505050\",\"#505050\",\"#505050\",\"#505050\",\"#505050\",\"#505050\",\"#505050\",\"#505050\",\"#505050\",\"#505050\",\"#505050\",\"#505050\",\"#505050\",\"#505050\",\"#505050\",\"#505050\",\"#505050\",\"#505050\",\"#505050\",\"#505050\",\"#505050\",\"#505050\",\"#505050\",\"#505050\",\"#505050\",\"#505050\",\"#505050\",\"#505050\",\"#505050\",\"#505050\",\"#505050\",\"#505050\",\"#505050\",\"#505050\",\"#505050\",\"#505050\",\"#505050\",\"#505050\",\"#505050\",\"#505050\",\"#505050\",\"#505050\",\"#505050\",\"#505050\",\"#505050\",\"#505050\",\"#505050\",\"#505050\",\"#505050\",\"#505050\",\"#505050\",\"#505050\",\"#505050\",\"#258fd8\",\"#505050\",\"#505050\",\"#505050\",\"#505050\",\"#505050\",\"#505050\",\"#505050\",\"#505050\",\"#505050\",\"#505050\",\"#505050\",\"#505050\",\"#505050\",\"#505050\",\"#505050\",\"#505050\",\"#505050\",\"#505050\",\"#505050\",\"#505050\",\"#505050\",\"#505050\",\"#505050\",\"#505050\",\"#505050\",\"#505050\",\"#505050\",\"#505050\",\"#505050\",\"#505050\",\"#505050\",\"#585858\",\"#585858\",\"#585858\",\"#585858\",\"#585858\",\"#585858\",\"#258fd8\",\"#585858\",\"#585858\",\"#585858\",\"#585858\",\"#585858\",\"#585858\",\"#585858\",\"#585858\",\"#585858\",\"#585858\",\"#1f77b4\",\"#585858\",\"#585858\",\"#1f77b4\",\"#585858\",\"#585858\",\"#585858\",\"#585858\",\"#585858\",\"#585858\",\"#585858\",\"#585858\",\"#585858\",\"#585858\",\"#585858\",\"#258fd8\",\"#585858\",\"#2283c6\",\"#585858\",\"#585858\",\"#585858\",\"#585858\",\"#585858\",\"#585858\",\"#585858\",\"#585858\",\"#585858\",\"#585858\",\"#585858\",\"#585858\",\"#585858\",\"#585858\",\"#585858\",\"#585858\",\"#585858\",\"#585858\",\"#585858\",\"#585858\",\"#585858\",\"#585858\",\"#585858\",\"#585858\",\"#585858\",\"#585858\",\"#585858\",\"#585858\",\"#585858\",\"#585858\",\"#b41f29\",\"#585858\",\"#585858\",\"#585858\",\"#585858\",\"#585858\",\"#585858\",\"#585858\",\"#2283c6\",\"#585858\",\"#585858\",\"#585858\",\"#585858\",\"#585858\",\"#585858\",\"#585858\",\"#585858\",\"#585858\",\"#585858\",\"#585858\",\"#585858\",\"#585858\",\"#585858\",\"#606060\",\"#606060\",\"#606060\",\"#606060\",\"#606060\",\"#606060\",\"#606060\",\"#606060\",\"#606060\",\"#606060\",\"#606060\",\"#606060\",\"#606060\",\"#606060\",\"#606060\",\"#606060\",\"#606060\",\"#d82531\",\"#606060\",\"#606060\",\"#606060\",\"#ea2835\",\"#606060\",\"#606060\",\"#606060\",\"#606060\",\"#606060\",\"#606060\",\"#606060\",\"#606060\",\"#606060\",\"#d82531\",\"#606060\",\"#606060\",\"#606060\",\"#606060\",\"#ea2835\",\"#606060\",\"#606060\",\"#606060\",\"#606060\",\"#ea2835\",\"#606060\",\"#606060\",\"#606060\",\"#606060\",\"#606060\",\"#606060\",\"#606060\",\"#606060\",\"#606060\",\"#606060\",\"#606060\",\"#606060\",\"#606060\",\"#606060\",\"#606060\",\"#606060\",\"#606060\",\"#606060\",\"#606060\",\"#606060\",\"#606060\",\"#606060\",\"#686868\",\"#686868\",\"#686868\",\"#686868\",\"#686868\",\"#686868\",\"#686868\",\"#686868\",\"#686868\",\"#686868\",\"#686868\",\"#686868\",\"#686868\",\"#686868\",\"#686868\",\"#686868\",\"#686868\",\"#686868\",\"#686868\",\"#686868\",\"#686868\",\"#686868\",\"#686868\",\"#686868\",\"#686868\",\"#686868\",\"#686868\",\"#686868\",\"#686868\",\"#686868\",\"#686868\",\"#686868\",\"#686868\",\"#686868\",\"#686868\",\"#686868\",\"#686868\",\"#686868\",\"#686868\",\"#686868\",\"#686868\",\"#686868\",\"#686868\",\"#686868\",\"#686868\",\"#686868\",\"#686868\",\"#686868\",\"#686868\",\"#686868\",\"#686868\",\"#686868\",\"#686868\",\"#686868\",\"#686868\",\"#686868\",\"#686868\",\"#686868\",\"#686868\",\"#686868\",\"#686868\",\"#707070\",\"#707070\",\"#707070\",\"#707070\",\"#707070\",\"#707070\",\"#707070\",\"#707070\",\"#707070\",\"#707070\",\"#707070\",\"#707070\",\"#707070\",\"#707070\",\"#707070\",\"#707070\",\"#707070\",\"#707070\",\"#707070\",\"#707070\",\"#707070\",\"#707070\",\"#707070\",\"#707070\",\"#707070\",\"#707070\",\"#707070\",\"#707070\",\"#289bea\",\"#289bea\",\"#2ba7fc\",\"#707070\",\"#707070\",\"#707070\",\"#707070\",\"#707070\",\"#707070\",\"#707070\",\"#707070\",\"#707070\",\"#707070\",\"#2283c6\",\"#2ba7fc\",\"#707070\",\"#707070\",\"#707070\",\"#707070\",\"#289bea\",\"#289bea\",\"#707070\",\"#707070\",\"#707070\",\"#707070\",\"#707070\",\"#707070\",\"#707070\",\"#707070\",\"#787878\",\"#787878\",\"#787878\",\"#787878\",\"#787878\",\"#787878\",\"#787878\",\"#787878\",\"#787878\",\"#1f77b4\",\"#787878\",\"#787878\",\"#787878\",\"#787878\",\"#787878\",\"#787878\",\"#787878\",\"#787878\",\"#787878\",\"#787878\",\"#b41f29\",\"#787878\",\"#787878\",\"#787878\",\"#787878\",\"#787878\",\"#787878\",\"#787878\",\"#787878\",\"#787878\",\"#787878\",\"#787878\",\"#787878\",\"#787878\",\"#787878\",\"#787878\",\"#787878\",\"#787878\",\"#787878\",\"#787878\",\"#787878\",\"#b41f29\",\"#d82531\",\"#787878\",\"#fc2b39\",\"#c6222d\",\"#787878\",\"#787878\",\"#787878\",\"#787878\",\"#787878\",\"#787878\",\"#787878\",\"#808080\",\"#808080\",\"#2ba7fc\",\"#808080\",\"#808080\",\"#808080\",\"#808080\",\"#808080\",\"#808080\",\"#808080\",\"#2ba7fc\",\"#808080\",\"#808080\",\"#808080\",\"#808080\",\"#808080\",\"#808080\",\"#808080\",\"#808080\",\"#808080\",\"#808080\",\"#808080\",\"#808080\",\"#808080\",\"#808080\",\"#808080\",\"#808080\",\"#808080\",\"#808080\",\"#808080\",\"#808080\",\"#808080\",\"#808080\",\"#808080\",\"#808080\",\"#808080\",\"#808080\",\"#808080\",\"#808080\",\"#888888\",\"#888888\",\"#888888\",\"#888888\",\"#888888\",\"#888888\",\"#888888\",\"#888888\",\"#888888\",\"#888888\",\"#888888\",\"#888888\",\"#888888\",\"#888888\",\"#888888\",\"#888888\",\"#888888\",\"#888888\",\"#888888\",\"#888888\",\"#888888\",\"#888888\",\"#888888\",\"#888888\",\"#888888\",\"#888888\",\"#888888\",\"#888888\",\"#888888\",\"#888888\",\"#888888\",\"#888888\",\"#888888\",\"#888888\",\"#888888\",\"#909090\",\"#909090\",\"#909090\",\"#909090\",\"#909090\",\"#909090\",\"#909090\",\"#909090\",\"#909090\",\"#909090\",\"#909090\",\"#909090\",\"#909090\",\"#909090\",\"#909090\",\"#909090\",\"#909090\",\"#909090\",\"#909090\",\"#909090\",\"#909090\",\"#909090\",\"#909090\",\"#909090\",\"#909090\",\"#909090\",\"#909090\",\"#909090\",\"#909090\",\"#909090\",\"#909090\",\"#909090\",\"#909090\",\"#909090\",\"#989898\",\"#989898\",\"#fc2b39\",\"#989898\",\"#989898\",\"#989898\",\"#989898\",\"#ea2835\",\"#989898\",\"#989898\",\"#989898\",\"#989898\",\"#989898\",\"#fc2b39\",\"#258fd8\",\"#989898\",\"#989898\",\"#989898\",\"#989898\",\"#989898\",\"#989898\",\"#989898\",\"#989898\",\"#989898\",\"#ea2835\",\"#989898\",\"#989898\",\"#989898\",\"#989898\",\"#fc2b39\",\"#989898\",\"#989898\",\"#a0a0a0\",\"#c6222d\",\"#a0a0a0\",\"#a0a0a0\",\"#a0a0a0\",\"#a0a0a0\",\"#a0a0a0\",\"#a0a0a0\",\"#a0a0a0\",\"#a0a0a0\",\"#a0a0a0\",\"#a0a0a0\",\"#a0a0a0\",\"#a0a0a0\",\"#a0a0a0\",\"#a0a0a0\",\"#a0a0a0\",\"#a0a0a0\",\"#a0a0a0\",\"#a0a0a0\",\"#a0a0a0\",\"#a0a0a0\",\"#a0a0a0\",\"#a0a0a0\",\"#a0a0a0\",\"#c6222d\",\"#a0a0a0\",\"#a0a0a0\",\"#a0a0a0\",\"#a8a8a8\",\"#a8a8a8\",\"#a8a8a8\",\"#a8a8a8\",\"#a8a8a8\",\"#a8a8a8\",\"#a8a8a8\",\"#a8a8a8\",\"#a8a8a8\",\"#a8a8a8\",\"#a8a8a8\",\"#a8a8a8\",\"#a8a8a8\",\"#a8a8a8\",\"#a8a8a8\",\"#a8a8a8\",\"#a8a8a8\",\"#a8a8a8\",\"#a8a8a8\",\"#a8a8a8\",\"#a8a8a8\",\"#a8a8a8\",\"#a8a8a8\",\"#a8a8a8\",\"#a8a8a8\",\"#a8a8a8\",\"#b0b0b0\",\"#b0b0b0\",\"#b0b0b0\",\"#b0b0b0\",\"#b0b0b0\",\"#b0b0b0\",\"#b0b0b0\",\"#b0b0b0\",\"#b0b0b0\",\"#b0b0b0\",\"#b0b0b0\",\"#b0b0b0\",\"#b0b0b0\",\"#b0b0b0\",\"#b0b0b0\",\"#b0b0b0\",\"#b0b0b0\",\"#b0b0b0\",\"#b8b8b8\",\"#b8b8b8\",\"#b8b8b8\",\"#b8b8b8\",\"#b8b8b8\",\"#b8b8b8\",\"#b8b8b8\",\"#b8b8b8\",\"#b8b8b8\",\"#b8b8b8\",\"#b8b8b8\",\"#b8b8b8\",\"#b8b8b8\",\"#b8b8b8\",\"#b8b8b8\",\"#b8b8b8\",\"#b8b8b8\",\"#b8b8b8\",\"#c0c0c0\",\"#c0c0c0\",\"#c0c0c0\",\"#c0c0c0\",\"#c0c0c0\",\"#c0c0c0\",\"#c0c0c0\",\"#c0c0c0\",\"#c0c0c0\",\"#c8c8c8\",\"#c8c8c8\",\"#c8c8c8\",\"#c8c8c8\",\"#c8c8c8\",\"#c8c8c8\",\"#c8c8c8\",\"#c8c8c8\"],\"shape\":[700],\"dtype\":\"object\",\"order\":\"little\"}],[\"label\",{\"type\":\"ndarray\",\"array\":[\"Cluster 0\",\"Cluster 0\",\"Cluster 0\",\"Cluster 0\",\"Cluster 0\",\"Cluster 0\",\"Cluster 0\",\"Cluster 0\",\"Cluster 0\",\"Cluster 0\",\"Cluster 0\",\"Cluster 0\",\"Cluster 0\",\"Cluster 0\",\"Cluster 0\",\"Cluster 0\",\"Cluster 0\",\"Cluster 0\",\"Cluster 0\",\"Cluster 0\",\"Cluster 0\",\"Cluster 0\",\"Cluster 0\",\"Cluster 0\",\"Cluster 0\",\"Cluster 0\",\"Cluster 0\",\"Cluster 0\",\"Cluster 0\",\"Cluster 0\",\"Cluster 0\",\"Cluster 0\",\"Cluster 0\",\"Cluster 0\",\"Cluster 0\",\"Cluster 0\",\"Cluster 0\",\"Cluster 0\",\"Cluster 0\",\"Cluster 0\",\"Cluster 0\",\"Cluster 0\",\"Cluster 0\",\"Cluster 0\",\"Cluster 0\",\"Cluster 0\",\"Cluster 0\",\"Cluster 0\",\"Cluster 0\",\"Cluster 0\",\"Cluster 0\",\"Cluster 0\",\"Cluster 0\",\"Cluster 0\",\"Cluster 0\",\"Cluster 0\",\"Cluster 0\",\"Cluster 0\",\"Cluster 0\",\"Cluster 0\",\"Cluster 0\",\"Cluster 0\",\"Cluster 0\",\"Cluster 0\",\"Cluster 0\",\"Cluster 0\",\"Cluster 0\",\"Cluster 0\",\"Cluster 0\",\"Cluster 0\",\"Cluster 0\",\"Cluster 0\",\"Cluster 0\",\"Cluster 0\",\"Cluster 0\",\"Cluster 0\",\"Cluster 0\",\"Cluster 0\",\"Cluster 0\",\"Cluster 0\",\"Cluster 0\",\"Cluster 0\",\"Cluster 0\",\"Cluster 0\",\"Cluster 0\",\"Cluster 0\",\"Cluster 0\",\"Cluster 0\",\"Cluster 0\",\"Cluster 0\",\"Cluster 0\",\"Cluster 0\",\"Cluster 0\",\"Cluster 0\",\"Cluster 0\",\"Cluster 0\",\"Cluster 0\",\"Cluster 0\",\"Cluster 0\",\"Cluster 0\",\"Cluster 0\",\"Cluster 0\",\"Cluster 0\",\"Cluster 0\",\"Cluster 0\",\"Cluster 0\",\"Cluster 0\",\"Cluster 0\",\"Cluster 0\",\"Cluster 0\",\"Cluster 0\",\"Cluster 0\",\"Cluster 0\",\"Cluster 0\",\"Cluster 0\",\"Cluster 0\",\"Cluster 0\",\"Cluster 0\",\"Cluster 0\",\"Cluster 0\",\"Cluster 0\",\"Cluster 0\",\"Cluster 0\",\"Cluster 0\",\"Cluster 0\",\"Cluster 0\",\"Cluster 0\",\"Cluster 0\",\"Cluster 0\",\"Cluster 1\",\"Cluster 1\",\"Cluster 1\",\"Cluster 1\",\"Cluster 1\",\"Cluster 1\",\"Cluster 1\",\"Cluster 1\",\"Cluster 1\",\"Cluster 1\",\"Cluster 1\",\"Cluster 1\",\"Cluster 1\",\"Cluster 1\",\"Cluster 1\",\"Cluster 1\",\"Cluster 1\",\"Cluster 1\",\"Cluster 1\",\"Cluster 1\",\"Cluster 1\",\"Cluster 1\",\"Cluster 1\",\"Cluster 1\",\"Cluster 1\",\"Cluster 1\",\"Cluster 1\",\"Cluster 1\",\"Cluster 1\",\"Cluster 1\",\"Cluster 1\",\"Cluster 1\",\"Cluster 1\",\"Cluster 1\",\"Cluster 1\",\"Cluster 1\",\"Cluster 1\",\"Cluster 1\",\"Cluster 1\",\"Cluster 1\",\"Cluster 1\",\"Cluster 1\",\"Cluster 1\",\"Cluster 1\",\"Cluster 1\",\"Cluster 1\",\"Cluster 1\",\"Cluster 1\",\"Cluster 1\",\"Cluster 1\",\"Cluster 1\",\"Cluster 1\",\"Cluster 1\",\"Cluster 1\",\"Cluster 1\",\"Cluster 1\",\"Cluster 1\",\"Cluster 1\",\"Cluster 1\",\"Cluster 1\",\"Cluster 1\",\"Cluster 1\",\"Cluster 1\",\"Cluster 1\",\"Cluster 1\",\"Cluster 1\",\"Cluster 1\",\"Cluster 1\",\"Cluster 1\",\"Cluster 1\",\"Cluster 1\",\"Cluster 1\",\"Cluster 1\",\"Cluster 1\",\"Cluster 1\",\"Cluster 1\",\"Cluster 1\",\"Cluster 1\",\"Cluster 1\",\"Cluster 1\",\"Cluster 1\",\"Cluster 1\",\"Cluster 1\",\"Cluster 1\",\"Cluster 1\",\"Cluster 1\",\"Cluster 1\",\"Cluster 1\",\"Cluster 2\",\"Cluster 2\",\"Cluster 2\",\"Cluster 2\",\"Cluster 2\",\"Cluster 2\",\"Cluster 2\",\"Cluster 2\",\"Cluster 2\",\"Cluster 2\",\"Cluster 2\",\"Cluster 2\",\"Cluster 2\",\"Cluster 2\",\"Cluster 2\",\"Cluster 2\",\"Cluster 2\",\"Cluster 2\",\"Cluster 2\",\"Cluster 2\",\"Cluster 2\",\"Cluster 2\",\"Cluster 2\",\"Cluster 2\",\"Cluster 2\",\"Cluster 2\",\"Cluster 2\",\"Cluster 2\",\"Cluster 2\",\"Cluster 2\",\"Cluster 2\",\"Cluster 2\",\"Cluster 2\",\"Cluster 2\",\"Cluster 2\",\"Cluster 2\",\"Cluster 2\",\"Cluster 2\",\"Cluster 2\",\"Cluster 2\",\"Cluster 2\",\"Cluster 2\",\"Cluster 2\",\"Cluster 2\",\"Cluster 2\",\"Cluster 2\",\"Cluster 2\",\"Cluster 2\",\"Cluster 2\",\"Cluster 2\",\"Cluster 2\",\"Cluster 2\",\"Cluster 2\",\"Cluster 2\",\"Cluster 2\",\"Cluster 2\",\"Cluster 2\",\"Cluster 2\",\"Cluster 2\",\"Cluster 2\",\"Cluster 2\",\"Cluster 2\",\"Cluster 2\",\"Cluster 2\",\"Cluster 3\",\"Cluster 3\",\"Cluster 3\",\"Cluster 3\",\"Cluster 3\",\"Cluster 3\",\"Cluster 3\",\"Cluster 3\",\"Cluster 3\",\"Cluster 3\",\"Cluster 3\",\"Cluster 3\",\"Cluster 3\",\"Cluster 3\",\"Cluster 3\",\"Cluster 3\",\"Cluster 3\",\"Cluster 3\",\"Cluster 3\",\"Cluster 3\",\"Cluster 3\",\"Cluster 3\",\"Cluster 3\",\"Cluster 3\",\"Cluster 3\",\"Cluster 3\",\"Cluster 3\",\"Cluster 3\",\"Cluster 3\",\"Cluster 3\",\"Cluster 3\",\"Cluster 3\",\"Cluster 3\",\"Cluster 3\",\"Cluster 3\",\"Cluster 3\",\"Cluster 3\",\"Cluster 3\",\"Cluster 3\",\"Cluster 3\",\"Cluster 3\",\"Cluster 3\",\"Cluster 3\",\"Cluster 3\",\"Cluster 3\",\"Cluster 3\",\"Cluster 3\",\"Cluster 3\",\"Cluster 3\",\"Cluster 3\",\"Cluster 3\",\"Cluster 3\",\"Cluster 3\",\"Cluster 3\",\"Cluster 3\",\"Cluster 3\",\"Cluster 3\",\"Cluster 3\",\"Cluster 3\",\"Cluster 3\",\"Cluster 3\",\"Cluster 4\",\"Cluster 4\",\"Cluster 4\",\"Cluster 4\",\"Cluster 4\",\"Cluster 4\",\"Cluster 4\",\"Cluster 4\",\"Cluster 4\",\"Cluster 4\",\"Cluster 4\",\"Cluster 4\",\"Cluster 4\",\"Cluster 4\",\"Cluster 4\",\"Cluster 4\",\"Cluster 4\",\"Cluster 4\",\"Cluster 4\",\"Cluster 4\",\"Cluster 4\",\"Cluster 4\",\"Cluster 4\",\"Cluster 4\",\"Cluster 4\",\"Cluster 4\",\"Cluster 4\",\"Cluster 4\",\"Cluster 4\",\"Cluster 4\",\"Cluster 4\",\"Cluster 4\",\"Cluster 4\",\"Cluster 4\",\"Cluster 4\",\"Cluster 4\",\"Cluster 4\",\"Cluster 4\",\"Cluster 4\",\"Cluster 4\",\"Cluster 4\",\"Cluster 4\",\"Cluster 4\",\"Cluster 4\",\"Cluster 4\",\"Cluster 4\",\"Cluster 4\",\"Cluster 4\",\"Cluster 4\",\"Cluster 4\",\"Cluster 4\",\"Cluster 4\",\"Cluster 4\",\"Cluster 4\",\"Cluster 4\",\"Cluster 4\",\"Cluster 4\",\"Cluster 5\",\"Cluster 5\",\"Cluster 5\",\"Cluster 5\",\"Cluster 5\",\"Cluster 5\",\"Cluster 5\",\"Cluster 5\",\"Cluster 5\",\"Cluster 5\",\"Cluster 5\",\"Cluster 5\",\"Cluster 5\",\"Cluster 5\",\"Cluster 5\",\"Cluster 5\",\"Cluster 5\",\"Cluster 5\",\"Cluster 5\",\"Cluster 5\",\"Cluster 5\",\"Cluster 5\",\"Cluster 5\",\"Cluster 5\",\"Cluster 5\",\"Cluster 5\",\"Cluster 5\",\"Cluster 5\",\"Cluster 5\",\"Cluster 5\",\"Cluster 5\",\"Cluster 5\",\"Cluster 5\",\"Cluster 5\",\"Cluster 5\",\"Cluster 5\",\"Cluster 5\",\"Cluster 5\",\"Cluster 5\",\"Cluster 5\",\"Cluster 5\",\"Cluster 5\",\"Cluster 5\",\"Cluster 5\",\"Cluster 5\",\"Cluster 5\",\"Cluster 5\",\"Cluster 5\",\"Cluster 5\",\"Cluster 5\",\"Cluster 5\",\"Cluster 5\",\"Cluster 5\",\"Cluster 6\",\"Cluster 6\",\"Cluster 6\",\"Cluster 6\",\"Cluster 6\",\"Cluster 6\",\"Cluster 6\",\"Cluster 6\",\"Cluster 6\",\"Cluster 6\",\"Cluster 6\",\"Cluster 6\",\"Cluster 6\",\"Cluster 6\",\"Cluster 6\",\"Cluster 6\",\"Cluster 6\",\"Cluster 6\",\"Cluster 6\",\"Cluster 6\",\"Cluster 6\",\"Cluster 6\",\"Cluster 6\",\"Cluster 6\",\"Cluster 6\",\"Cluster 6\",\"Cluster 6\",\"Cluster 6\",\"Cluster 6\",\"Cluster 6\",\"Cluster 6\",\"Cluster 6\",\"Cluster 6\",\"Cluster 6\",\"Cluster 6\",\"Cluster 6\",\"Cluster 6\",\"Cluster 6\",\"Cluster 6\",\"Cluster 7\",\"Cluster 7\",\"Cluster 7\",\"Cluster 7\",\"Cluster 7\",\"Cluster 7\",\"Cluster 7\",\"Cluster 7\",\"Cluster 7\",\"Cluster 7\",\"Cluster 7\",\"Cluster 7\",\"Cluster 7\",\"Cluster 7\",\"Cluster 7\",\"Cluster 7\",\"Cluster 7\",\"Cluster 7\",\"Cluster 7\",\"Cluster 7\",\"Cluster 7\",\"Cluster 7\",\"Cluster 7\",\"Cluster 7\",\"Cluster 7\",\"Cluster 7\",\"Cluster 7\",\"Cluster 7\",\"Cluster 7\",\"Cluster 7\",\"Cluster 7\",\"Cluster 7\",\"Cluster 7\",\"Cluster 7\",\"Cluster 7\",\"Cluster 8\",\"Cluster 8\",\"Cluster 8\",\"Cluster 8\",\"Cluster 8\",\"Cluster 8\",\"Cluster 8\",\"Cluster 8\",\"Cluster 8\",\"Cluster 8\",\"Cluster 8\",\"Cluster 8\",\"Cluster 8\",\"Cluster 8\",\"Cluster 8\",\"Cluster 8\",\"Cluster 8\",\"Cluster 8\",\"Cluster 8\",\"Cluster 8\",\"Cluster 8\",\"Cluster 8\",\"Cluster 8\",\"Cluster 8\",\"Cluster 8\",\"Cluster 8\",\"Cluster 8\",\"Cluster 8\",\"Cluster 8\",\"Cluster 8\",\"Cluster 8\",\"Cluster 8\",\"Cluster 8\",\"Cluster 8\",\"Cluster 9\",\"Cluster 9\",\"Cluster 9\",\"Cluster 9\",\"Cluster 9\",\"Cluster 9\",\"Cluster 9\",\"Cluster 9\",\"Cluster 9\",\"Cluster 9\",\"Cluster 9\",\"Cluster 9\",\"Cluster 9\",\"Cluster 9\",\"Cluster 9\",\"Cluster 9\",\"Cluster 9\",\"Cluster 9\",\"Cluster 9\",\"Cluster 9\",\"Cluster 9\",\"Cluster 9\",\"Cluster 9\",\"Cluster 9\",\"Cluster 9\",\"Cluster 9\",\"Cluster 9\",\"Cluster 9\",\"Cluster 9\",\"Cluster 9\",\"Cluster 9\",\"Cluster 9\",\"Cluster 10\",\"Cluster 10\",\"Cluster 10\",\"Cluster 10\",\"Cluster 10\",\"Cluster 10\",\"Cluster 10\",\"Cluster 10\",\"Cluster 10\",\"Cluster 10\",\"Cluster 10\",\"Cluster 10\",\"Cluster 10\",\"Cluster 10\",\"Cluster 10\",\"Cluster 10\",\"Cluster 10\",\"Cluster 10\",\"Cluster 10\",\"Cluster 10\",\"Cluster 10\",\"Cluster 10\",\"Cluster 10\",\"Cluster 10\",\"Cluster 10\",\"Cluster 10\",\"Cluster 10\",\"Cluster 10\",\"Cluster 10\",\"Cluster 11\",\"Cluster 11\",\"Cluster 11\",\"Cluster 11\",\"Cluster 11\",\"Cluster 11\",\"Cluster 11\",\"Cluster 11\",\"Cluster 11\",\"Cluster 11\",\"Cluster 11\",\"Cluster 11\",\"Cluster 11\",\"Cluster 11\",\"Cluster 11\",\"Cluster 11\",\"Cluster 11\",\"Cluster 11\",\"Cluster 11\",\"Cluster 11\",\"Cluster 11\",\"Cluster 11\",\"Cluster 11\",\"Cluster 11\",\"Cluster 11\",\"Cluster 11\",\"Cluster 12\",\"Cluster 12\",\"Cluster 12\",\"Cluster 12\",\"Cluster 12\",\"Cluster 12\",\"Cluster 12\",\"Cluster 12\",\"Cluster 12\",\"Cluster 12\",\"Cluster 12\",\"Cluster 12\",\"Cluster 12\",\"Cluster 12\",\"Cluster 12\",\"Cluster 12\",\"Cluster 12\",\"Cluster 12\",\"Cluster 13\",\"Cluster 13\",\"Cluster 13\",\"Cluster 13\",\"Cluster 13\",\"Cluster 13\",\"Cluster 13\",\"Cluster 13\",\"Cluster 13\",\"Cluster 13\",\"Cluster 13\",\"Cluster 13\",\"Cluster 13\",\"Cluster 13\",\"Cluster 13\",\"Cluster 13\",\"Cluster 13\",\"Cluster 13\",\"Cluster 14\",\"Cluster 14\",\"Cluster 14\",\"Cluster 14\",\"Cluster 14\",\"Cluster 14\",\"Cluster 14\",\"Cluster 14\",\"Cluster 14\",\"Cluster 15\",\"Cluster 15\",\"Cluster 15\",\"Cluster 15\",\"Cluster 15\",\"Cluster 15\",\"Cluster 15\",\"Cluster 15\"],\"shape\":[700],\"dtype\":\"object\",\"order\":\"little\"}],[\"size\",{\"type\":\"ndarray\",\"array\":{\"type\":\"bytes\",\"data\":\"BgAAAAYAAAAGAAAABgAAAAYAAAAGAAAABgAAAAYAAAAGAAAABgAAAAwAAAAGAAAABgAAAAYAAAAGAAAABgAAAAYAAAAGAAAABgAAAAYAAAAGAAAABgAAAAYAAAAGAAAABgAAAAYAAAAGAAAABgAAAAYAAAAGAAAADAAAAAYAAAAGAAAABgAAAAYAAAAGAAAABgAAAAYAAAAGAAAABgAAAAYAAAAGAAAABgAAAAYAAAAGAAAABgAAAAYAAAAGAAAABgAAAAYAAAAGAAAABgAAAAYAAAAGAAAABgAAAAYAAAAGAAAABgAAAAYAAAAGAAAABgAAAAYAAAAGAAAABgAAAAYAAAAGAAAABgAAAAYAAAAGAAAABgAAAAYAAAAGAAAABgAAAAYAAAAGAAAABgAAAAYAAAAGAAAABgAAAAYAAAAGAAAABgAAAAYAAAAGAAAABgAAAAYAAAAGAAAABgAAAAYAAAAGAAAABgAAAAYAAAAGAAAABgAAAAYAAAAGAAAABgAAAAwAAAAGAAAABgAAAAYAAAAGAAAABgAAAAYAAAAGAAAABgAAAAYAAAAGAAAABgAAAAYAAAAGAAAABgAAAAYAAAAGAAAABgAAAAYAAAAGAAAABgAAAAYAAAAGAAAABgAAAAYAAAAGAAAABgAAAAYAAAAGAAAABgAAAAYAAAAGAAAABgAAAAYAAAAGAAAABgAAAAYAAAAGAAAADAAAAAYAAAAGAAAABgAAAAYAAAAGAAAABgAAAAYAAAAGAAAABgAAAAYAAAAMAAAABgAAAAYAAAAMAAAABgAAAAYAAAAGAAAABgAAAAYAAAAGAAAABgAAAAYAAAAGAAAABgAAAAYAAAAMAAAABgAAAAwAAAAGAAAABgAAAAYAAAAGAAAABgAAAAYAAAAGAAAABgAAAAYAAAAGAAAABgAAAAYAAAAGAAAABgAAAAYAAAAGAAAABgAAAAYAAAAGAAAABgAAAAYAAAAGAAAABgAAAAYAAAAGAAAABgAAAAYAAAAGAAAABgAAAAYAAAAMAAAABgAAAAYAAAAGAAAABgAAAAYAAAAGAAAABgAAAAwAAAAGAAAABgAAAAYAAAAGAAAABgAAAAYAAAAGAAAABgAAAAYAAAAGAAAABgAAAAYAAAAGAAAABgAAAAYAAAAGAAAABgAAAAYAAAAGAAAABgAAAAYAAAAGAAAABgAAAAYAAAAGAAAABgAAAAYAAAAGAAAABgAAAAYAAAAGAAAADAAAAAYAAAAGAAAABgAAAAwAAAAGAAAABgAAAAYAAAAGAAAABgAAAAYAAAAGAAAABgAAAAYAAAAMAAAABgAAAAYAAAAGAAAABgAAAAwAAAAGAAAABgAAAAYAAAAGAAAADAAAAAYAAAAGAAAABgAAAAYAAAAGAAAABgAAAAYAAAAGAAAABgAAAAYAAAAGAAAABgAAAAYAAAAGAAAABgAAAAYAAAAGAAAABgAAAAYAAAAGAAAABgAAAAYAAAAGAAAABgAAAAYAAAAGAAAABgAAAAYAAAAGAAAABgAAAAYAAAAGAAAABgAAAAYAAAAGAAAABgAAAAYAAAAGAAAABgAAAAYAAAAGAAAABgAAAAYAAAAGAAAABgAAAAYAAAAGAAAABgAAAAYAAAAGAAAABgAAAAYAAAAGAAAABgAAAAYAAAAGAAAABgAAAAYAAAAGAAAABgAAAAYAAAAGAAAABgAAAAYAAAAGAAAABgAAAAYAAAAGAAAABgAAAAYAAAAGAAAABgAAAAYAAAAGAAAABgAAAAYAAAAGAAAABgAAAAYAAAAGAAAABgAAAAYAAAAGAAAABgAAAAYAAAAGAAAABgAAAAYAAAAGAAAABgAAAAYAAAAGAAAABgAAAAYAAAAGAAAABgAAAAYAAAAGAAAABgAAAAYAAAAGAAAABgAAAAYAAAAGAAAABgAAAAYAAAAGAAAABgAAAAYAAAAGAAAABgAAAAwAAAAMAAAADAAAAAYAAAAGAAAABgAAAAYAAAAGAAAABgAAAAYAAAAGAAAABgAAAAYAAAAMAAAADAAAAAYAAAAGAAAABgAAAAYAAAAMAAAADAAAAAYAAAAGAAAABgAAAAYAAAAGAAAABgAAAAYAAAAGAAAABgAAAAYAAAAGAAAABgAAAAYAAAAGAAAABgAAAAYAAAAGAAAADAAAAAYAAAAGAAAABgAAAAYAAAAGAAAABgAAAAYAAAAGAAAABgAAAAYAAAAMAAAABgAAAAYAAAAGAAAABgAAAAYAAAAGAAAABgAAAAYAAAAGAAAABgAAAAYAAAAGAAAABgAAAAYAAAAGAAAABgAAAAYAAAAGAAAABgAAAAYAAAAMAAAADAAAAAYAAAAMAAAADAAAAAYAAAAGAAAABgAAAAYAAAAGAAAABgAAAAYAAAAGAAAABgAAAAwAAAAGAAAABgAAAAYAAAAGAAAABgAAAAYAAAAGAAAADAAAAAYAAAAGAAAABgAAAAYAAAAGAAAABgAAAAYAAAAGAAAABgAAAAYAAAAGAAAABgAAAAYAAAAGAAAABgAAAAYAAAAGAAAABgAAAAYAAAAGAAAABgAAAAYAAAAGAAAABgAAAAYAAAAGAAAABgAAAAYAAAAGAAAABgAAAAYAAAAGAAAABgAAAAYAAAAGAAAABgAAAAYAAAAGAAAABgAAAAYAAAAGAAAABgAAAAYAAAAGAAAABgAAAAYAAAAGAAAABgAAAAYAAAAGAAAABgAAAAYAAAAGAAAABgAAAAYAAAAGAAAABgAAAAYAAAAGAAAABgAAAAYAAAAGAAAABgAAAAYAAAAGAAAABgAAAAYAAAAGAAAABgAAAAYAAAAGAAAABgAAAAYAAAAGAAAABgAAAAYAAAAGAAAABgAAAAYAAAAGAAAABgAAAAYAAAAGAAAABgAAAAYAAAAGAAAABgAAAAYAAAAGAAAABgAAAAYAAAAGAAAABgAAAAYAAAAGAAAABgAAAAYAAAAGAAAABgAAAAwAAAAGAAAABgAAAAYAAAAGAAAADAAAAAYAAAAGAAAABgAAAAYAAAAGAAAADAAAAAwAAAAGAAAABgAAAAYAAAAGAAAABgAAAAYAAAAGAAAABgAAAAYAAAAMAAAABgAAAAYAAAAGAAAABgAAAAwAAAAGAAAABgAAAAYAAAAMAAAABgAAAAYAAAAGAAAABgAAAAYAAAAGAAAABgAAAAYAAAAGAAAABgAAAAYAAAAGAAAABgAAAAYAAAAGAAAABgAAAAYAAAAGAAAABgAAAAYAAAAGAAAABgAAAAYAAAAMAAAABgAAAAYAAAAGAAAABgAAAAYAAAAGAAAABgAAAAYAAAAGAAAABgAAAAYAAAAGAAAABgAAAAYAAAAGAAAABgAAAAYAAAAGAAAABgAAAAYAAAAGAAAABgAAAAYAAAAGAAAABgAAAAYAAAAGAAAABgAAAAYAAAAGAAAABgAAAAYAAAAGAAAABgAAAAYAAAAGAAAABgAAAAYAAAAGAAAABgAAAAYAAAAGAAAABgAAAAYAAAAGAAAABgAAAAYAAAAGAAAABgAAAAYAAAAGAAAABgAAAAYAAAAGAAAABgAAAAYAAAAGAAAABgAAAAYAAAAGAAAABgAAAAYAAAAGAAAABgAAAAYAAAAGAAAABgAAAAYAAAAGAAAABgAAAAYAAAAGAAAABgAAAAYAAAAGAAAABgAAAAYAAAAGAAAABgAAAAYAAAAGAAAABgAAAA==\"},\"shape\":[700],\"dtype\":\"int32\",\"order\":\"little\"}],[\"time_point\",{\"type\":\"ndarray\",\"array\":[\"Not enriched\",\"Not enriched\",\"Not enriched\",\"Not enriched\",\"Not enriched\",\"Not enriched\",\"Not enriched\",\"Not enriched\",\"Not enriched\",\"Not enriched\",\"Hour 24 vs Hour 12\",\"Not enriched\",\"Not enriched\",\"Not enriched\",\"Not enriched\",\"Not enriched\",\"Not enriched\",\"Not enriched\",\"Not enriched\",\"Not enriched\",\"Not enriched\",\"Not enriched\",\"Not enriched\",\"Not enriched\",\"Not enriched\",\"Not enriched\",\"Not enriched\",\"Not enriched\",\"Not enriched\",\"Not enriched\",\"Hour 6 vs Hour 3\",\"Not enriched\",\"Not enriched\",\"Not enriched\",\"Not enriched\",\"Not enriched\",\"Not enriched\",\"Not enriched\",\"Not enriched\",\"Not enriched\",\"Not enriched\",\"Not enriched\",\"Not enriched\",\"Not enriched\",\"Not enriched\",\"Not enriched\",\"Not enriched\",\"Not enriched\",\"Not enriched\",\"Not enriched\",\"Not enriched\",\"Not enriched\",\"Not enriched\",\"Not enriched\",\"Not enriched\",\"Not enriched\",\"Not enriched\",\"Not enriched\",\"Not enriched\",\"Not enriched\",\"Not enriched\",\"Not enriched\",\"Not enriched\",\"Not enriched\",\"Not enriched\",\"Not enriched\",\"Not enriched\",\"Not enriched\",\"Not enriched\",\"Not enriched\",\"Not enriched\",\"Not enriched\",\"Not enriched\",\"Not enriched\",\"Not enriched\",\"Not enriched\",\"Not enriched\",\"Not enriched\",\"Not enriched\",\"Not enriched\",\"Not enriched\",\"Not enriched\",\"Not enriched\",\"Not enriched\",\"Not enriched\",\"Not enriched\",\"Not enriched\",\"Not enriched\",\"Not enriched\",\"Not enriched\",\"Not enriched\",\"Not enriched\",\"Not enriched\",\"Not enriched\",\"Not enriched\",\"Not enriched\",\"Not enriched\",\"Hour 6 vs Hour 3\",\"Not enriched\",\"Not enriched\",\"Not enriched\",\"Not enriched\",\"Not enriched\",\"Not enriched\",\"Not enriched\",\"Not enriched\",\"Not enriched\",\"Not enriched\",\"Not enriched\",\"Not enriched\",\"Not enriched\",\"Not enriched\",\"Not enriched\",\"Not enriched\",\"Not enriched\",\"Not enriched\",\"Not enriched\",\"Not enriched\",\"Not enriched\",\"Not enriched\",\"Not enriched\",\"Not enriched\",\"Not enriched\",\"Not enriched\",\"Not enriched\",\"Not enriched\",\"Not enriched\",\"Not enriched\",\"Not enriched\",\"Not enriched\",\"Not enriched\",\"Not enriched\",\"Not enriched\",\"Not enriched\",\"Not enriched\",\"Hour 6 vs Hour 3\",\"Not enriched\",\"Not enriched\",\"Not enriched\",\"Not enriched\",\"Not enriched\",\"Not enriched\",\"Not enriched\",\"Not enriched\",\"Not enriched\",\"Not enriched\",\"Hour 1 vs Hour 0\",\"Not enriched\",\"Not enriched\",\"Hour 1 vs Hour 0\",\"Not enriched\",\"Not enriched\",\"Not enriched\",\"Not enriched\",\"Not enriched\",\"Not enriched\",\"Not enriched\",\"Not enriched\",\"Not enriched\",\"Not enriched\",\"Not enriched\",\"Hour 6 vs Hour 3\",\"Not enriched\",\"Hour 3 vs Hour 1\",\"Not enriched\",\"Not enriched\",\"Not enriched\",\"Not enriched\",\"Not enriched\",\"Not enriched\",\"Not enriched\",\"Not enriched\",\"Not enriched\",\"Not enriched\",\"Not enriched\",\"Not enriched\",\"Not enriched\",\"Not enriched\",\"Not enriched\",\"Not enriched\",\"Not enriched\",\"Not enriched\",\"Not enriched\",\"Not enriched\",\"Not enriched\",\"Not enriched\",\"Not enriched\",\"Not enriched\",\"Not enriched\",\"Not enriched\",\"Not enriched\",\"Not enriched\",\"Not enriched\",\"Not enriched\",\"Hour 1 vs Hour 0\",\"Not enriched\",\"Not enriched\",\"Not enriched\",\"Not enriched\",\"Not enriched\",\"Not enriched\",\"Not enriched\",\"Hour 3 vs Hour 1\",\"Not enriched\",\"Not enriched\",\"Not enriched\",\"Not enriched\",\"Not enriched\",\"Not enriched\",\"Not enriched\",\"Not enriched\",\"Not enriched\",\"Not enriched\",\"Not enriched\",\"Not enriched\",\"Not enriched\",\"Not enriched\",\"Not enriched\",\"Not enriched\",\"Not enriched\",\"Not enriched\",\"Not enriched\",\"Not enriched\",\"Not enriched\",\"Not enriched\",\"Not enriched\",\"Not enriched\",\"Not enriched\",\"Not enriched\",\"Not enriched\",\"Not enriched\",\"Not enriched\",\"Not enriched\",\"Not enriched\",\"Hour 6 vs Hour 3\",\"Not enriched\",\"Not enriched\",\"Not enriched\",\"Hour 12 vs Hour 6\",\"Not enriched\",\"Not enriched\",\"Not enriched\",\"Not enriched\",\"Not enriched\",\"Not enriched\",\"Not enriched\",\"Not enriched\",\"Not enriched\",\"Hour 6 vs Hour 3\",\"Not enriched\",\"Not enriched\",\"Not enriched\",\"Not enriched\",\"Hour 12 vs Hour 6\",\"Not enriched\",\"Not enriched\",\"Not enriched\",\"Not enriched\",\"Hour 12 vs Hour 6\",\"Not enriched\",\"Not enriched\",\"Not enriched\",\"Not enriched\",\"Not enriched\",\"Not enriched\",\"Not enriched\",\"Not enriched\",\"Not enriched\",\"Not enriched\",\"Not enriched\",\"Not enriched\",\"Not enriched\",\"Not enriched\",\"Not enriched\",\"Not enriched\",\"Not enriched\",\"Not enriched\",\"Not enriched\",\"Not enriched\",\"Not enriched\",\"Not enriched\",\"Not enriched\",\"Not enriched\",\"Not enriched\",\"Not enriched\",\"Not enriched\",\"Not enriched\",\"Not enriched\",\"Not enriched\",\"Not enriched\",\"Not enriched\",\"Not enriched\",\"Not enriched\",\"Not enriched\",\"Not enriched\",\"Not enriched\",\"Not enriched\",\"Not enriched\",\"Not enriched\",\"Not enriched\",\"Not enriched\",\"Not enriched\",\"Not enriched\",\"Not enriched\",\"Not enriched\",\"Not enriched\",\"Not enriched\",\"Not enriched\",\"Not enriched\",\"Not enriched\",\"Not enriched\",\"Not enriched\",\"Not enriched\",\"Not enriched\",\"Not enriched\",\"Not enriched\",\"Not enriched\",\"Not enriched\",\"Not enriched\",\"Not enriched\",\"Not enriched\",\"Not enriched\",\"Not enriched\",\"Not enriched\",\"Not enriched\",\"Not enriched\",\"Not enriched\",\"Not enriched\",\"Not enriched\",\"Not enriched\",\"Not enriched\",\"Not enriched\",\"Not enriched\",\"Not enriched\",\"Not enriched\",\"Not enriched\",\"Not enriched\",\"Not enriched\",\"Not enriched\",\"Not enriched\",\"Not enriched\",\"Not enriched\",\"Not enriched\",\"Not enriched\",\"Not enriched\",\"Not enriched\",\"Not enriched\",\"Not enriched\",\"Not enriched\",\"Not enriched\",\"Not enriched\",\"Not enriched\",\"Not enriched\",\"Not enriched\",\"Not enriched\",\"Not enriched\",\"Not enriched\",\"Not enriched\",\"Not enriched\",\"Not enriched\",\"Not enriched\",\"Not enriched\",\"Not enriched\",\"Not enriched\",\"Not enriched\",\"Not enriched\",\"Not enriched\",\"Not enriched\",\"Not enriched\",\"Not enriched\",\"Hour 12 vs Hour 6\",\"Hour 12 vs Hour 6\",\"Hour 24 vs Hour 12\",\"Not enriched\",\"Not enriched\",\"Not enriched\",\"Not enriched\",\"Not enriched\",\"Not enriched\",\"Not enriched\",\"Not enriched\",\"Not enriched\",\"Not enriched\",\"Hour 3 vs Hour 1\",\"Hour 24 vs Hour 12\",\"Not enriched\",\"Not enriched\",\"Not enriched\",\"Not enriched\",\"Hour 12 vs Hour 6\",\"Hour 12 vs Hour 6\",\"Not enriched\",\"Not enriched\",\"Not enriched\",\"Not enriched\",\"Not enriched\",\"Not enriched\",\"Not enriched\",\"Not enriched\",\"Not enriched\",\"Not enriched\",\"Not enriched\",\"Not enriched\",\"Not enriched\",\"Not enriched\",\"Not enriched\",\"Not enriched\",\"Not enriched\",\"Hour 1 vs Hour 0\",\"Not enriched\",\"Not enriched\",\"Not enriched\",\"Not enriched\",\"Not enriched\",\"Not enriched\",\"Not enriched\",\"Not enriched\",\"Not enriched\",\"Not enriched\",\"Hour 1 vs Hour 0\",\"Not enriched\",\"Not enriched\",\"Not enriched\",\"Not enriched\",\"Not enriched\",\"Not enriched\",\"Not enriched\",\"Not enriched\",\"Not enriched\",\"Not enriched\",\"Not enriched\",\"Not enriched\",\"Not enriched\",\"Not enriched\",\"Not enriched\",\"Not enriched\",\"Not enriched\",\"Not enriched\",\"Not enriched\",\"Not enriched\",\"Hour 1 vs Hour 0\",\"Hour 6 vs Hour 3\",\"Not enriched\",\"Hour 24 vs Hour 12\",\"Hour 3 vs Hour 1\",\"Not enriched\",\"Not enriched\",\"Not enriched\",\"Not enriched\",\"Not enriched\",\"Not enriched\",\"Not enriched\",\"Not enriched\",\"Not enriched\",\"Hour 24 vs Hour 12\",\"Not enriched\",\"Not enriched\",\"Not enriched\",\"Not enriched\",\"Not enriched\",\"Not enriched\",\"Not enriched\",\"Hour 24 vs Hour 12\",\"Not enriched\",\"Not enriched\",\"Not enriched\",\"Not enriched\",\"Not enriched\",\"Not enriched\",\"Not enriched\",\"Not enriched\",\"Not enriched\",\"Not enriched\",\"Not enriched\",\"Not enriched\",\"Not enriched\",\"Not enriched\",\"Not enriched\",\"Not enriched\",\"Not enriched\",\"Not enriched\",\"Not enriched\",\"Not enriched\",\"Not enriched\",\"Not enriched\",\"Not enriched\",\"Not enriched\",\"Not enriched\",\"Not enriched\",\"Not enriched\",\"Not enriched\",\"Not enriched\",\"Not enriched\",\"Not enriched\",\"Not enriched\",\"Not enriched\",\"Not enriched\",\"Not enriched\",\"Not enriched\",\"Not enriched\",\"Not enriched\",\"Not enriched\",\"Not enriched\",\"Not enriched\",\"Not enriched\",\"Not enriched\",\"Not enriched\",\"Not enriched\",\"Not enriched\",\"Not enriched\",\"Not enriched\",\"Not enriched\",\"Not enriched\",\"Not enriched\",\"Not enriched\",\"Not enriched\",\"Not enriched\",\"Not enriched\",\"Not enriched\",\"Not enriched\",\"Not enriched\",\"Not enriched\",\"Not enriched\",\"Not enriched\",\"Not enriched\",\"Not enriched\",\"Not enriched\",\"Not enriched\",\"Not enriched\",\"Not enriched\",\"Not enriched\",\"Not enriched\",\"Not enriched\",\"Not enriched\",\"Not enriched\",\"Not enriched\",\"Not enriched\",\"Not enriched\",\"Not enriched\",\"Not enriched\",\"Not enriched\",\"Not enriched\",\"Not enriched\",\"Not enriched\",\"Not enriched\",\"Not enriched\",\"Not enriched\",\"Not enriched\",\"Not enriched\",\"Not enriched\",\"Not enriched\",\"Not enriched\",\"Not enriched\",\"Not enriched\",\"Not enriched\",\"Not enriched\",\"Not enriched\",\"Not enriched\",\"Not enriched\",\"Not enriched\",\"Not enriched\",\"Not enriched\",\"Hour 24 vs Hour 12\",\"Not enriched\",\"Not enriched\",\"Not enriched\",\"Not enriched\",\"Hour 12 vs Hour 6\",\"Not enriched\",\"Not enriched\",\"Not enriched\",\"Not enriched\",\"Not enriched\",\"Hour 24 vs Hour 12\",\"Hour 6 vs Hour 3\",\"Not enriched\",\"Not enriched\",\"Not enriched\",\"Not enriched\",\"Not enriched\",\"Not enriched\",\"Not enriched\",\"Not enriched\",\"Not enriched\",\"Hour 12 vs Hour 6\",\"Not enriched\",\"Not enriched\",\"Not enriched\",\"Not enriched\",\"Hour 24 vs Hour 12\",\"Not enriched\",\"Not enriched\",\"Not enriched\",\"Hour 3 vs Hour 1\",\"Not enriched\",\"Not enriched\",\"Not enriched\",\"Not enriched\",\"Not enriched\",\"Not enriched\",\"Not enriched\",\"Not enriched\",\"Not enriched\",\"Not enriched\",\"Not enriched\",\"Not enriched\",\"Not enriched\",\"Not enriched\",\"Not enriched\",\"Not enriched\",\"Not enriched\",\"Not enriched\",\"Not enriched\",\"Not enriched\",\"Not enriched\",\"Not enriched\",\"Not enriched\",\"Hour 3 vs Hour 1\",\"Not enriched\",\"Not enriched\",\"Not enriched\",\"Not enriched\",\"Not enriched\",\"Not enriched\",\"Not enriched\",\"Not enriched\",\"Not enriched\",\"Not enriched\",\"Not enriched\",\"Not enriched\",\"Not enriched\",\"Not enriched\",\"Not enriched\",\"Not enriched\",\"Not enriched\",\"Not enriched\",\"Not enriched\",\"Not enriched\",\"Not enriched\",\"Not enriched\",\"Not enriched\",\"Not enriched\",\"Not enriched\",\"Not enriched\",\"Not enriched\",\"Not enriched\",\"Not enriched\",\"Not enriched\",\"Not enriched\",\"Not enriched\",\"Not enriched\",\"Not enriched\",\"Not enriched\",\"Not enriched\",\"Not enriched\",\"Not enriched\",\"Not enriched\",\"Not enriched\",\"Not enriched\",\"Not enriched\",\"Not enriched\",\"Not enriched\",\"Not enriched\",\"Not enriched\",\"Not enriched\",\"Not enriched\",\"Not enriched\",\"Not enriched\",\"Not enriched\",\"Not enriched\",\"Not enriched\",\"Not enriched\",\"Not enriched\",\"Not enriched\",\"Not enriched\",\"Not enriched\",\"Not enriched\",\"Not enriched\",\"Not enriched\",\"Not enriched\",\"Not enriched\",\"Not enriched\",\"Not enriched\",\"Not enriched\",\"Not enriched\",\"Not enriched\",\"Not enriched\",\"Not enriched\",\"Not enriched\",\"Not enriched\",\"Not enriched\",\"Not enriched\",\"Not enriched\",\"Not enriched\",\"Not enriched\",\"Not enriched\",\"Not enriched\",\"Not enriched\",\"Not enriched\",\"Not enriched\"],\"shape\":[700],\"dtype\":\"object\",\"order\":\"little\"}]]}}},\"view\":{\"type\":\"object\",\"name\":\"CDSView\",\"id\":\"p6894\",\"attributes\":{\"filter\":{\"type\":\"object\",\"name\":\"AllIndices\",\"id\":\"p6895\"}}},\"glyph\":{\"type\":\"object\",\"name\":\"Scatter\",\"id\":\"p6890\",\"attributes\":{\"x\":{\"type\":\"field\",\"field\":\"x\"},\"y\":{\"type\":\"field\",\"field\":\"y\"},\"size\":{\"type\":\"field\",\"field\":\"size\"},\"line_color\":{\"type\":\"field\",\"field\":\"colors\"},\"fill_color\":{\"type\":\"field\",\"field\":\"colors\"},\"hatch_color\":{\"type\":\"field\",\"field\":\"colors\"}}},\"nonselection_glyph\":{\"type\":\"object\",\"name\":\"Scatter\",\"id\":\"p6891\",\"attributes\":{\"x\":{\"type\":\"field\",\"field\":\"x\"},\"y\":{\"type\":\"field\",\"field\":\"y\"},\"size\":{\"type\":\"field\",\"field\":\"size\"},\"line_color\":{\"type\":\"field\",\"field\":\"colors\"},\"line_alpha\":{\"type\":\"value\",\"value\":0.1},\"fill_color\":{\"type\":\"field\",\"field\":\"colors\"},\"fill_alpha\":{\"type\":\"value\",\"value\":0.1},\"hatch_color\":{\"type\":\"field\",\"field\":\"colors\"},\"hatch_alpha\":{\"type\":\"value\",\"value\":0.1}}},\"muted_glyph\":{\"type\":\"object\",\"name\":\"Scatter\",\"id\":\"p6892\",\"attributes\":{\"x\":{\"type\":\"field\",\"field\":\"x\"},\"y\":{\"type\":\"field\",\"field\":\"y\"},\"size\":{\"type\":\"field\",\"field\":\"size\"},\"line_color\":{\"type\":\"field\",\"field\":\"colors\"},\"line_alpha\":{\"type\":\"value\",\"value\":0.2},\"fill_color\":{\"type\":\"field\",\"field\":\"colors\"},\"fill_alpha\":{\"type\":\"value\",\"value\":0.2},\"hatch_color\":{\"type\":\"field\",\"field\":\"colors\"},\"hatch_alpha\":{\"type\":\"value\",\"value\":0.2}}}}}],\"toolbar\":{\"type\":\"object\",\"name\":\"Toolbar\",\"id\":\"p6867\",\"attributes\":{\"tools\":[{\"type\":\"object\",\"name\":\"HoverTool\",\"id\":\"p6858\",\"attributes\":{\"renderers\":\"auto\",\"tooltips\":[[\"Gene Set\",\"@gene_set\"],[\"Cluster\",\"@label\"],[\"Time point\",\"@time_point\"]]}},{\"type\":\"object\",\"name\":\"PanTool\",\"id\":\"p6880\"},{\"type\":\"object\",\"name\":\"WheelZoomTool\",\"id\":\"p6881\",\"attributes\":{\"renderers\":\"auto\"}},{\"type\":\"object\",\"name\":\"ResetTool\",\"id\":\"p6882\"},{\"type\":\"object\",\"name\":\"SaveTool\",\"id\":\"p6883\"}]}},\"left\":[{\"type\":\"object\",\"name\":\"LinearAxis\",\"id\":\"p6875\",\"attributes\":{\"ticker\":{\"type\":\"object\",\"name\":\"BasicTicker\",\"id\":\"p6876\",\"attributes\":{\"mantissas\":[1,2,5]}},\"formatter\":{\"type\":\"object\",\"name\":\"BasicTickFormatter\",\"id\":\"p6877\"},\"axis_label\":\"UMAP-2\",\"axis_label_text_font_size\":\"40pt\",\"axis_label_text_font_style\":\"normal\",\"major_label_policy\":{\"type\":\"object\",\"name\":\"AllLabels\",\"id\":\"p6878\"},\"major_label_text_font_size\":\"0pt\",\"major_tick_line_color\":null,\"minor_tick_line_color\":null}}],\"right\":[{\"type\":\"object\",\"name\":\"Legend\",\"id\":\"p6896\",\"attributes\":{\"label_text_font_size\":\"18pt\",\"items\":[{\"type\":\"object\",\"name\":\"LegendItem\",\"id\":\"p6897\",\"attributes\":{\"label\":{\"type\":\"value\",\"value\":\"Cluster 0\"},\"renderers\":[{\"id\":\"p6893\"}],\"index\":0}},{\"type\":\"object\",\"name\":\"LegendItem\",\"id\":\"p6898\",\"attributes\":{\"label\":{\"type\":\"value\",\"value\":\"Cluster 1\"},\"renderers\":[{\"id\":\"p6893\"}],\"index\":129}},{\"type\":\"object\",\"name\":\"LegendItem\",\"id\":\"p6899\",\"attributes\":{\"label\":{\"type\":\"value\",\"value\":\"Cluster 10\"},\"renderers\":[{\"id\":\"p6893\"}],\"index\":592}},{\"type\":\"object\",\"name\":\"LegendItem\",\"id\":\"p6900\",\"attributes\":{\"label\":{\"type\":\"value\",\"value\":\"Cluster 11\"},\"renderers\":[{\"id\":\"p6893\"}],\"index\":621}},{\"type\":\"object\",\"name\":\"LegendItem\",\"id\":\"p6901\",\"attributes\":{\"label\":{\"type\":\"value\",\"value\":\"Cluster 12\"},\"renderers\":[{\"id\":\"p6893\"}],\"index\":647}},{\"type\":\"object\",\"name\":\"LegendItem\",\"id\":\"p6902\",\"attributes\":{\"label\":{\"type\":\"value\",\"value\":\"Cluster 13\"},\"renderers\":[{\"id\":\"p6893\"}],\"index\":665}},{\"type\":\"object\",\"name\":\"LegendItem\",\"id\":\"p6903\",\"attributes\":{\"label\":{\"type\":\"value\",\"value\":\"Cluster 14\"},\"renderers\":[{\"id\":\"p6893\"}],\"index\":683}},{\"type\":\"object\",\"name\":\"LegendItem\",\"id\":\"p6904\",\"attributes\":{\"label\":{\"type\":\"value\",\"value\":\"Cluster 15\"},\"renderers\":[{\"id\":\"p6893\"}],\"index\":692}},{\"type\":\"object\",\"name\":\"LegendItem\",\"id\":\"p6905\",\"attributes\":{\"label\":{\"type\":\"value\",\"value\":\"Cluster 2\"},\"renderers\":[{\"id\":\"p6893\"}],\"index\":217}},{\"type\":\"object\",\"name\":\"LegendItem\",\"id\":\"p6906\",\"attributes\":{\"label\":{\"type\":\"value\",\"value\":\"Cluster 3\"},\"renderers\":[{\"id\":\"p6893\"}],\"index\":281}},{\"type\":\"object\",\"name\":\"LegendItem\",\"id\":\"p6907\",\"attributes\":{\"label\":{\"type\":\"value\",\"value\":\"Cluster 4\"},\"renderers\":[{\"id\":\"p6893\"}],\"index\":342}},{\"type\":\"object\",\"name\":\"LegendItem\",\"id\":\"p6908\",\"attributes\":{\"label\":{\"type\":\"value\",\"value\":\"Cluster 5\"},\"renderers\":[{\"id\":\"p6893\"}],\"index\":399}},{\"type\":\"object\",\"name\":\"LegendItem\",\"id\":\"p6909\",\"attributes\":{\"label\":{\"type\":\"value\",\"value\":\"Cluster 6\"},\"renderers\":[{\"id\":\"p6893\"}],\"index\":452}},{\"type\":\"object\",\"name\":\"LegendItem\",\"id\":\"p6910\",\"attributes\":{\"label\":{\"type\":\"value\",\"value\":\"Cluster 7\"},\"renderers\":[{\"id\":\"p6893\"}],\"index\":491}},{\"type\":\"object\",\"name\":\"LegendItem\",\"id\":\"p6911\",\"attributes\":{\"label\":{\"type\":\"value\",\"value\":\"Cluster 8\"},\"renderers\":[{\"id\":\"p6893\"}],\"index\":526}},{\"type\":\"object\",\"name\":\"LegendItem\",\"id\":\"p6912\",\"attributes\":{\"label\":{\"type\":\"value\",\"value\":\"Cluster 9\"},\"renderers\":[{\"id\":\"p6893\"}],\"index\":560}}]}}],\"below\":[{\"type\":\"object\",\"name\":\"LinearAxis\",\"id\":\"p6870\",\"attributes\":{\"ticker\":{\"type\":\"object\",\"name\":\"BasicTicker\",\"id\":\"p6871\",\"attributes\":{\"mantissas\":[1,2,5]}},\"formatter\":{\"type\":\"object\",\"name\":\"BasicTickFormatter\",\"id\":\"p6872\"},\"axis_label\":\"UMAP-1\",\"axis_label_text_font_size\":\"40pt\",\"axis_label_text_font_style\":\"normal\",\"major_label_policy\":{\"type\":\"object\",\"name\":\"AllLabels\",\"id\":\"p6873\"},\"major_label_text_font_size\":\"0pt\",\"major_tick_line_color\":null,\"minor_tick_line_color\":null}}],\"center\":[{\"type\":\"object\",\"name\":\"Grid\",\"id\":\"p6874\",\"attributes\":{\"axis\":{\"id\":\"p6870\"},\"grid_line_color\":null}},{\"type\":\"object\",\"name\":\"Grid\",\"id\":\"p6879\",\"attributes\":{\"dimension\":1,\"axis\":{\"id\":\"p6875\"},\"grid_line_color\":null}}],\"output_backend\":\"svg\"}}]}};\n  const render_items = [{\"docid\":\"01cb83d3-62fc-432a-94b5-122148d24198\",\"roots\":{\"p6859\":\"b0a17036-4758-4374-85f1-c33868e36c1e\"},\"root_ids\":[\"p6859\"]}];\n  void root.Bokeh.embed.embed_items_notebook(docs_json, render_items);\n  }\n  if (root.Bokeh !== undefined) {\n    embed_document(root);\n  } else {\n    let attempts = 0;\n    const timer = setInterval(function(root) {\n      if (root.Bokeh !== undefined) {\n        clearInterval(timer);\n        embed_document(root);\n      } else {\n        attempts++;\n        if (attempts > 100) {\n          clearInterval(timer);\n          console.log(\"Bokeh: ERROR: Unable to run BokehJS code because BokehJS library is missing\");\n        }\n      }\n    }, 10, root)\n  }\n})(window);",
      "application/vnd.bokehjs_exec.v0+json": ""
     },
     "metadata": {
      "application/vnd.bokehjs_exec.v0+json": {
       "id": "p6859"
      }
     },
     "output_type": "display_data"
    }
   ],
   "source": [
    "# for i in range(5, 35, 5):\n",
    "#     for j in [k * 0.05 for k in range(1, 11)]:\n",
    "\n",
    "l_dict = get_scatter_library(libname, local=True, augmented=False)\n",
    "print(f\"Now processing {libname}\") # print(f\"Now processing {libname} with nneighbors = {i} and mindist = {j}\")\n",
    "## defaults: nneighbors=30, mindist=0.1, spread=1.0, maxdf=1.0, mindf=1\n",
    "scatter_df = process_scatterplot(\n",
    "    l_dict,\n",
    "    nneighbors=20,\n",
    "    mindist=0.15,\n",
    ")\n",
    "print(f\"\\tDone!\")\n",
    "\n",
    "# Display Scatter Plots\n",
    "caption1 = f\"**Figure 1. Scatterplot of all terms in the {libname} gene set library.** Each point represents a term in the library. \\\n",
    "    Term frequency-inverse document frequency (TF-IDF) values were computed for the gene set corresponding to each term, and UMAP was  \\\n",
    "    applied to the resulting values. The terms are plotted based on the first two UMAP dimensions. Generally, terms with more similar \\\n",
    "    gene sets are positioned closer together. Terms are colored by automatically identified clusters computed with the Leiden algorithm \\\n",
    "    applied to the TF-IDF values. Hovering over points will display the term and the automatically assigned cluster.\"\n",
    "\n",
    "tf_time_dict = {0: (['KLF6', 'FOSB', 'JUN', 'FOS', 'NR4A3'], ['NR4A1', 'BHLHE40', 'ZNF395', 'FOSB', 'ZNF324']), 1: (['BHLHE40', 'ATF3', 'FOSB', 'SNAI1', 'RELB'], ['BHLHE40', 'ZBED3', 'JUN', 'PPARG', 'NR2F2']), 2: (['TEAD1', 'SP3', 'ZBTB38', 'FOXM1', 'UBP1'], ['MAFF', 'HMGN3', 'ATF3', 'GTF3A', 'ZNF511']), 3: (['STAT2', 'SP100', 'BATF2', 'TRAFD1', 'IRF9'], ['GATAD2A', 'E2F1', 'ZBED4', 'ZNF598', 'SRCAP']), 4: (['TEAD1', 'STAT2', 'NFKB2', 'CREB3L2', 'STAT1'], ['ZNF239', 'ZNF146', 'PRMT3', 'FOSL1', 'CEBPZ'])}\n",
    "comparisons = [\"Hour 1 vs Hour 0\", \"Hour 3 vs Hour 1\", \"Hour 6 vs Hour 3\", \"Hour 12 vs Hour 6\", \"Hour 24 vs Hour 12\"]\n",
    "plot, src = get_scatterplot(scatter_df, tf_time_dict, comparisons)\n",
    "print(plot)\n",
    "display(HTML(f\"<div style='font-size:1.5rem;'>Scatter plot visualization for {libname}.</div>\"))\n",
    "show(plot)"
   ]
  }
 ],
 "metadata": {
  "kernelspec": {
   "display_name": "umap_env",
   "language": "python",
   "name": "python3"
  },
  "language_info": {
   "codemirror_mode": {
    "name": "ipython",
    "version": 3
   },
   "file_extension": ".py",
   "mimetype": "text/x-python",
   "name": "python",
   "nbconvert_exporter": "python",
   "pygments_lexer": "ipython3",
   "version": "3.11.7"
  }
 },
 "nbformat": 4,
 "nbformat_minor": 2
}
